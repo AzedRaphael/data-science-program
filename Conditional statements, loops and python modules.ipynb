{
 "cells": [
  {
   "cell_type": "code",
   "execution_count": 11,
   "id": "c313173d",
   "metadata": {},
   "outputs": [
    {
     "data": {
      "text/plain": [
       "{'Edet Yomi', 'Isaac Ureh', 'Ken John'}"
      ]
     },
     "execution_count": 11,
     "metadata": {},
     "output_type": "execute_result"
    }
   ],
   "source": [
    "bioStudents = [\"Ken John\", 'Edet Yomi', 'Isaac Ureh']\n",
    "chemStudents = ['Ken Ify', 'John Ephrim', 'Ojo Idoko' , 'Ureh Isaac']\n",
    "\n",
    "set(bioStudents)"
   ]
  },
  {
   "cell_type": "code",
   "execution_count": 12,
   "id": "5d854180",
   "metadata": {},
   "outputs": [
    {
     "data": {
      "text/plain": [
       "set()"
      ]
     },
     "execution_count": 12,
     "metadata": {},
     "output_type": "execute_result"
    }
   ],
   "source": [
    "students = set(bioStudents).intersection(set(chemStudents))\n",
    "students"
   ]
  },
  {
   "cell_type": "code",
   "execution_count": null,
   "id": "875d14ad",
   "metadata": {},
   "outputs": [],
   "source": [
    "# conditional stms are logical constructs that evaluates a condition to check whether the condition is true or false.\n",
    "== equals to\n",
    "!= not equalts to\n",
    ">= greate than equals to\n",
    "<= less than or equals to\n",
    "not in\n",
    "in"
   ]
  },
  {
   "cell_type": "code",
   "execution_count": 1,
   "id": "24286661",
   "metadata": {},
   "outputs": [
    {
     "name": "stdout",
     "output_type": "stream",
     "text": [
      "Dont order beer\n"
     ]
    }
   ],
   "source": [
    "customerAge = 10\n",
    "adultsAge = 18\n",
    "\n",
    "if customerAge >= adultsAge:\n",
    "    print(\"Order beer\")\n",
    "else:\n",
    "    print('Dont order beer')"
   ]
  },
  {
   "cell_type": "code",
   "execution_count": 3,
   "id": "2f58b315",
   "metadata": {},
   "outputs": [
    {
     "name": "stdout",
     "output_type": "stream",
     "text": [
      "customer is not an adult\n"
     ]
    }
   ],
   "source": [
    "print ('customer is not an adult') if( customerAge <= adultsAge)else(print ('customer is an adult'))"
   ]
  },
  {
   "cell_type": "code",
   "execution_count": 4,
   "id": "2b61c10a",
   "metadata": {},
   "outputs": [
    {
     "name": "stdout",
     "output_type": "stream",
     "text": [
      "A\n"
     ]
    }
   ],
   "source": [
    "a = 2\n",
    "b = 10\n",
    "print(\"A\") if(a < b) else print('B')"
   ]
  },
  {
   "cell_type": "code",
   "execution_count": 10,
   "id": "cd215211",
   "metadata": {},
   "outputs": [],
   "source": [
    "kindergartenMinAge = 2\n",
    "elementaryMinAge = 4\n",
    "highSchoolMinAge = 10\n",
    "collegeMinAge = 16\n",
    "\n",
    "candidateAge = 18\n",
    "if candidateAge > kindergartenMinAge and candidateAge <= elementaryMinAge:\n",
    "    print(\"student in kindergarten\")"
   ]
  },
  {
   "cell_type": "code",
   "execution_count": 11,
   "id": "1cbea1cc",
   "metadata": {},
   "outputs": [
    {
     "name": "stdout",
     "output_type": "stream",
     "text": [
      "Candidate belongs to college\n"
     ]
    }
   ],
   "source": [
    "if candidateAge >= 16:\n",
    "    print('Candidate belongs to college')\n",
    "elif candidateAge >= 10:\n",
    "    print('Candidate belongs to highschool')\n",
    "elif candidateAge >= 4:\n",
    "    print('Candidate belongs to elementary school')\n",
    "else:\n",
    "    print('Candidate belongs to kindergarten')"
   ]
  },
  {
   "cell_type": "code",
   "execution_count": 13,
   "id": "218eb237",
   "metadata": {},
   "outputs": [],
   "source": [
    "# convert script to function\n",
    "def schoolCategory(name, age):\n",
    "    kindergartenMinAge = 2\n",
    "    elementaryMinAge = 4\n",
    "    highSchoolMinAge = 10\n",
    "    collegeMinAge = age\n",
    "\n",
    "    candidateAge = age\n",
    "    if candidateAge >= 75:\n",
    "        print(f'{name} is too old to go to school')\n",
    "    elif candidateAge >= 16:\n",
    "        print(f'{name} belongs to college')\n",
    "    elif candidateAge >= 10:\n",
    "        print(f'{name} belongs to highschool')\n",
    "    elif candidateAge >= 4:\n",
    "        print(f'{name} belongs to elementary school')\n",
    "    elif candidateAge >= 2:\n",
    "        print(f'{name} belongs to kindergarten')\n",
    "    else:\n",
    "        print(f'{name} belongs to daycare')"
   ]
  },
  {
   "cell_type": "code",
   "execution_count": 14,
   "id": "6c5b7e8e",
   "metadata": {},
   "outputs": [
    {
     "name": "stdout",
     "output_type": "stream",
     "text": [
      "Raphael belongs to elementary school\n"
     ]
    }
   ],
   "source": [
    "schoolCategory(\"Raphael\", 8)"
   ]
  },
  {
   "cell_type": "code",
   "execution_count": 15,
   "id": "b55c01d2",
   "metadata": {},
   "outputs": [
    {
     "name": "stdout",
     "output_type": "stream",
     "text": [
      "Frank belongs to college\n",
      "John belongs to elementary school\n",
      "Egypt belongs to college\n",
      "Laura belongs to highschool\n",
      "Glow belongs to daycare\n"
     ]
    }
   ],
   "source": [
    "# Implementing for loop\n",
    "studList = ['Frank', 'John', 'Egypt', 'Laura', 'Glow']\n",
    "studAges = [20, 5, 17, 12, 1]\n",
    "newList = set()\n",
    "newStud = []\n",
    "\n",
    "# for students,age in zip (studList, studAges):\n",
    "#     newStud.extend(students, age)\n",
    "#     print(students,age)\n",
    "#     newList.add(students,age)\n",
    "# newStud\n",
    "\n",
    "for students,age in zip (studList, studAges):\n",
    "    schoolCategory(students,age)\n"
   ]
  },
  {
   "cell_type": "code",
   "execution_count": 17,
   "id": "60a43757",
   "metadata": {},
   "outputs": [
    {
     "name": "stdout",
     "output_type": "stream",
     "text": [
      "Frank belongs to college\n",
      "John belongs to elementary school\n",
      "Egypt belongs to college\n",
      "Laura belongs to highschool\n",
      "Glow belongs to daycare\n"
     ]
    }
   ],
   "source": [
    "# using while loop\n",
    "counter = 0\n",
    "while counter < len(studList):\n",
    "    schoolCategory(studList[counter],studAges[counter])\n",
    "    \n",
    "    counter += 1"
   ]
  },
  {
   "cell_type": "code",
   "execution_count": 1,
   "id": "040f3c34",
   "metadata": {},
   "outputs": [
    {
     "name": "stderr",
     "output_type": "stream",
     "text": [
      "UsageError: Line magic function `%%writefile` not found.\n"
     ]
    }
   ],
   "source": [
    "# python modules: these are compact libraries that can be coded and distributed to be implemented by others. Convert A FUNCTION TO MODULE\n",
    "\n",
    "%%writefile demoScript.py\n",
    "def schoolEval(name, age):\n",
    "    '''\n",
    "    School eval accepts names and age and returns the category of school of the person depending on the age\n",
    "    '''\n",
    "    kindergartenMinAge = 2\n",
    "    elementaryMinAge = 4\n",
    "    highSchoolMinAge = 10\n",
    "    collegeMinAge = age\n",
    "\n",
    "    candidateAge = age\n",
    "    if candidateAge >= 75:\n",
    "        return [name, 'Cannot go to school']\n",
    "    elif candidateAge >= 16:\n",
    "        return [name, 'College']\n",
    "    elif candidateAge >= 10:\n",
    "        return [name, 'Highschool']\n",
    "    elif candidateAge >= 4:\n",
    "        return [name, 'Elementary']\n",
    "    elif candidateAge >= 2:\n",
    "        return [name, 'Kindergarten']\n",
    "    else:\n",
    "        return [name, 'Daycare']\n",
    "\n",
    "studName, school = schoolEval('Raphael', 20)\n"
   ]
  },
  {
   "cell_type": "code",
   "execution_count": 25,
   "id": "d15d1556",
   "metadata": {},
   "outputs": [
    {
     "name": "stdout",
     "output_type": "stream",
     "text": [
      "Help on function schoolEval in module __main__:\n",
      "\n",
      "schoolEval(name, age)\n",
      "    School eval accepts names and age and returns the category of school of the person depending on the age\n",
      "\n"
     ]
    }
   ],
   "source": [
    "help(schoolEval)"
   ]
  },
  {
   "cell_type": "code",
   "execution_count": 2,
   "id": "046f35d9",
   "metadata": {},
   "outputs": [
    {
     "name": "stdout",
     "output_type": "stream",
     "text": [
      "Writing demoScript.py\n"
     ]
    }
   ],
   "source": [
    "\n",
    "%%writefile demoScript.py\n",
    "def schoolEval(name, age):\n",
    "    '''\n",
    "    School eval accepts names and age and returns the category of school of the person depending on the age\n",
    "    '''\n",
    "    kindergartenMinAge = 2\n",
    "    elementaryMinAge = 4\n",
    "    highSchoolMinAge = 10\n",
    "    collegeMinAge = age\n",
    "\n",
    "    candidateAge = age\n",
    "    if candidateAge >= 75:\n",
    "        return [name, 'Cannot go to school']\n",
    "    elif candidateAge >= 16:\n",
    "        return [name, 'College']\n",
    "    elif candidateAge >= 10:\n",
    "        return [name, 'Highschool']\n",
    "    elif candidateAge >= 4:\n",
    "        return [name, 'Elementary']\n",
    "    elif candidateAge >= 2:\n",
    "        return [name, 'Kindergarten']\n",
    "    else:\n",
    "        return [name, 'Daycare']\n",
    "\n",
    "studName, school = schoolEval('Raphael', 20)"
   ]
  },
  {
   "cell_type": "code",
   "execution_count": 3,
   "id": "7ea2e8b9",
   "metadata": {},
   "outputs": [
    {
     "data": {
      "text/plain": [
       "{'Agatha', 'Bill', 'Chinenye', 'Madu', 'Terry', 'Veronica'}"
      ]
     },
     "execution_count": 3,
     "metadata": {},
     "output_type": "execute_result"
    }
   ],
   "source": [
    "# Exercises\n",
    "chemStudents = {'Agatha', 'Terry', 'Bill', 'Vincent', 'Auwal', 'Tayo', 'Veronica', 'Chinenye', 'Madu'}\n",
    "chemScores = {55,67,76,58,97,56,45,76,87}\n",
    "\n",
    "mathsStudents = {'Agatha', 'Terry', 'Bill', 'David', 'Caleb', 'Mahmud', 'Veronica', 'Kwasik', 'Nanteng', 'Chinenye', 'Madu'}\n",
    "mathsScore = {67,87,54,59,92,52,78,76,87, 74,88}\n",
    "\n",
    "biologyStudents = {'Bilkisu', 'Conrad', 'Bill', 'David', 'Kelvin', 'Mahmud', 'Veronica', 'Kwasik', 'Bwatamge', 'Chinenye', 'Cosmas', 'Moses'}\n",
    "biologyScores = {61,78,44,99,60,52,58,76,73, 74, 88, 97}\n",
    "\n",
    "commonChemMaths = chemStudents.intersection(mathsStudents)\n",
    "commonChemMaths"
   ]
  },
  {
   "cell_type": "code",
   "execution_count": 7,
   "id": "1d22dd7c",
   "metadata": {},
   "outputs": [
    {
     "data": {
      "text/plain": [
       "{'Bill', 'Chinenye', 'Veronica'}"
      ]
     },
     "execution_count": 7,
     "metadata": {},
     "output_type": "execute_result"
    }
   ],
   "source": [
    "commonAll = commonChemMaths.intersection(biologyStudents)\n",
    "commonAll"
   ]
  },
  {
   "cell_type": "code",
   "execution_count": 8,
   "id": "48c0a09b",
   "metadata": {},
   "outputs": [
    {
     "data": {
      "text/plain": [
       "{'Bilkisu',\n",
       " 'Bwatamge',\n",
       " 'Conrad',\n",
       " 'Cosmas',\n",
       " 'David',\n",
       " 'Kelvin',\n",
       " 'Kwasik',\n",
       " 'Mahmud',\n",
       " 'Moses'}"
      ]
     },
     "execution_count": 8,
     "metadata": {},
     "output_type": "execute_result"
    }
   ],
   "source": [
    "biologyStudents.difference(chemStudents)"
   ]
  },
  {
   "cell_type": "code",
   "execution_count": 9,
   "id": "38d77519",
   "metadata": {},
   "outputs": [
    {
     "data": {
      "text/plain": [
       "{'Agatha', 'Bill', 'Chinenye', 'Madu', 'Terry', 'Veronica'}"
      ]
     },
     "execution_count": 9,
     "metadata": {},
     "output_type": "execute_result"
    }
   ],
   "source": [
    "#  Implement code to determine which students take chemistry and math BUT NOT Biology\n",
    "commonChemMaths = chemStudents.intersection(mathsStudents)\n",
    "commonChemMaths"
   ]
  },
  {
   "cell_type": "code",
   "execution_count": 13,
   "id": "06f7f14f",
   "metadata": {},
   "outputs": [
    {
     "data": {
      "text/plain": [
       "{'Agatha', 'Madu', 'Terry'}"
      ]
     },
     "execution_count": 13,
     "metadata": {},
     "output_type": "execute_result"
    }
   ],
   "source": [
    "NotBiology = commonChemMaths.difference(biologyStudents)\n",
    "NotBiology"
   ]
  },
  {
   "cell_type": "code",
   "execution_count": 14,
   "id": "6aaac546",
   "metadata": {},
   "outputs": [
    {
     "data": {
      "text/plain": [
       "{'Agatha': 97,\n",
       " 'Terry': 67,\n",
       " 'Madu': 76,\n",
       " 'Auwal': 45,\n",
       " 'Vincent': 87,\n",
       " 'Tayo': 55,\n",
       " 'Bill': 56,\n",
       " 'Veronica': 58}"
      ]
     },
     "execution_count": 14,
     "metadata": {},
     "output_type": "execute_result"
    }
   ],
   "source": [
    "# Implement code to store the student names, subjects and scores in a python List\n",
    "studentsChem = dict(zip(chemStudents, chemScores))\n",
    "studentsChem"
   ]
  },
  {
   "cell_type": "code",
   "execution_count": 2,
   "id": "a18cce39",
   "metadata": {},
   "outputs": [
    {
     "data": {
      "text/plain": [
       "{'Bilkisu': 61,\n",
       " 'Conrad': 78,\n",
       " 'Bill': 44,\n",
       " 'David': 99,\n",
       " 'Kelvin': 60,\n",
       " 'Mahmud': 52,\n",
       " 'Veronica': 58,\n",
       " 'Kwasik': 76,\n",
       " 'Bwatamge': 73,\n",
       " 'Chinenye': 74,\n",
       " 'Cosmas': 88,\n",
       " 'Moses': 97}"
      ]
     },
     "execution_count": 2,
     "metadata": {},
     "output_type": "execute_result"
    }
   ],
   "source": [
    "biologyStudent = ['Bilkisu', 'Conrad', 'Bill', 'David', 'Kelvin', 'Mahmud', 'Veronica', 'Kwasik', 'Bwatamge', 'Chinenye', 'Cosmas', 'Moses']\n",
    "biologyScore = [61,78,44,99,60,52,58,76,73, 74, 88, 97]\n",
    "studentsBio = dict(zip(biologyStudent, biologyScore))\n",
    "studentsBio"
   ]
  },
  {
   "cell_type": "code",
   "execution_count": 3,
   "id": "c75b33df",
   "metadata": {},
   "outputs": [
    {
     "data": {
      "text/plain": [
       "[['Bilkisu', 61, 'PASSED'],\n",
       " ['Conrad', 78, 'PASSED'],\n",
       " ['Bill', 44, 'FAILED'],\n",
       " ['David', 99, 'PASSED'],\n",
       " ['Kelvin', 60, 'PASSED'],\n",
       " ['Mahmud', 52, 'FAILED'],\n",
       " ['Veronica', 58, 'FAILED'],\n",
       " ['Kwasik', 76, 'PASSED'],\n",
       " ['Bwatamge', 73, 'PASSED'],\n",
       " ['Chinenye', 74, 'PASSED'],\n",
       " ['Cosmas', 88, 'PASSED'],\n",
       " ['Moses', 97, 'PASSED']]"
      ]
     },
     "execution_count": 3,
     "metadata": {},
     "output_type": "execute_result"
    }
   ],
   "source": [
    "# Implement code to determine which students Passed or failed the exams. Assume that a failing grade is any score below 60 and a passing grade is any score 60 and above CHALLENGE\n",
    "# QUESTION: Implement code to present all student results on a single table with the following columns: SUBJECT | STUDENT NAME | SCORE |\n",
    "\n",
    "tempList = []\n",
    "for names,scores in zip(biologyStudent,biologyScore):\n",
    "    status = \" \"\n",
    "    if scores <60:\n",
    "        status = \"FAILED\"\n",
    "    else:\n",
    "        status = \"PASSED\"\n",
    "    tempList.append([names, scores, status])\n",
    "tempList"
   ]
  },
  {
   "cell_type": "code",
   "execution_count": 7,
   "id": "a38e521e",
   "metadata": {},
   "outputs": [
    {
     "data": {
      "text/html": [
       "<div>\n",
       "<style scoped>\n",
       "    .dataframe tbody tr th:only-of-type {\n",
       "        vertical-align: middle;\n",
       "    }\n",
       "\n",
       "    .dataframe tbody tr th {\n",
       "        vertical-align: top;\n",
       "    }\n",
       "\n",
       "    .dataframe thead th {\n",
       "        text-align: right;\n",
       "    }\n",
       "</style>\n",
       "<table border=\"1\" class=\"dataframe\">\n",
       "  <thead>\n",
       "    <tr style=\"text-align: right;\">\n",
       "      <th></th>\n",
       "      <th>names</th>\n",
       "      <th>scores</th>\n",
       "      <th>status</th>\n",
       "    </tr>\n",
       "  </thead>\n",
       "  <tbody>\n",
       "    <tr>\n",
       "      <th>0</th>\n",
       "      <td>Bilkisu</td>\n",
       "      <td>61</td>\n",
       "      <td>PASSED</td>\n",
       "    </tr>\n",
       "    <tr>\n",
       "      <th>1</th>\n",
       "      <td>Conrad</td>\n",
       "      <td>78</td>\n",
       "      <td>PASSED</td>\n",
       "    </tr>\n",
       "    <tr>\n",
       "      <th>2</th>\n",
       "      <td>Bill</td>\n",
       "      <td>44</td>\n",
       "      <td>FAILED</td>\n",
       "    </tr>\n",
       "    <tr>\n",
       "      <th>3</th>\n",
       "      <td>David</td>\n",
       "      <td>99</td>\n",
       "      <td>PASSED</td>\n",
       "    </tr>\n",
       "    <tr>\n",
       "      <th>4</th>\n",
       "      <td>Kelvin</td>\n",
       "      <td>60</td>\n",
       "      <td>PASSED</td>\n",
       "    </tr>\n",
       "    <tr>\n",
       "      <th>5</th>\n",
       "      <td>Mahmud</td>\n",
       "      <td>52</td>\n",
       "      <td>FAILED</td>\n",
       "    </tr>\n",
       "    <tr>\n",
       "      <th>6</th>\n",
       "      <td>Veronica</td>\n",
       "      <td>58</td>\n",
       "      <td>FAILED</td>\n",
       "    </tr>\n",
       "    <tr>\n",
       "      <th>7</th>\n",
       "      <td>Kwasik</td>\n",
       "      <td>76</td>\n",
       "      <td>PASSED</td>\n",
       "    </tr>\n",
       "    <tr>\n",
       "      <th>8</th>\n",
       "      <td>Bwatamge</td>\n",
       "      <td>73</td>\n",
       "      <td>PASSED</td>\n",
       "    </tr>\n",
       "    <tr>\n",
       "      <th>9</th>\n",
       "      <td>Chinenye</td>\n",
       "      <td>74</td>\n",
       "      <td>PASSED</td>\n",
       "    </tr>\n",
       "    <tr>\n",
       "      <th>10</th>\n",
       "      <td>Cosmas</td>\n",
       "      <td>88</td>\n",
       "      <td>PASSED</td>\n",
       "    </tr>\n",
       "    <tr>\n",
       "      <th>11</th>\n",
       "      <td>Moses</td>\n",
       "      <td>97</td>\n",
       "      <td>PASSED</td>\n",
       "    </tr>\n",
       "  </tbody>\n",
       "</table>\n",
       "</div>"
      ],
      "text/plain": [
       "       names  scores  status\n",
       "0    Bilkisu      61  PASSED\n",
       "1     Conrad      78  PASSED\n",
       "2       Bill      44  FAILED\n",
       "3      David      99  PASSED\n",
       "4     Kelvin      60  PASSED\n",
       "5     Mahmud      52  FAILED\n",
       "6   Veronica      58  FAILED\n",
       "7     Kwasik      76  PASSED\n",
       "8   Bwatamge      73  PASSED\n",
       "9   Chinenye      74  PASSED\n",
       "10    Cosmas      88  PASSED\n",
       "11     Moses      97  PASSED"
      ]
     },
     "execution_count": 7,
     "metadata": {},
     "output_type": "execute_result"
    }
   ],
   "source": [
    "import pandas as pd\n",
    "\n",
    "pd.DataFrame(tempList, columns = [\"names\", \"scores\", \"status\"])"
   ]
  },
  {
   "cell_type": "code",
   "execution_count": 40,
   "id": "27e1b0fb",
   "metadata": {},
   "outputs": [
    {
     "name": "stdout",
     "output_type": "stream",
     "text": [
      "[['Agatha', 'chemistry', 55, 'FAILED'], ['Terry', 'chemistry', 67, 'PASSED'], ['Bill', 'chemistry', 76, 'PASSED'], ['Vincent', 'chemistry', 58, 'FAILED'], ['Auwal', 'chemistry', 97, 'PASSED'], ['Tayo', 'chemistry', 56, 'FAILED'], ['Veronica', 'chemistry', 45, 'FAILED'], ['Chinenye', 'chemistry', 76, 'PASSED'], ['Madu', 'chemistry', 87, 'PASSED']]\n",
      "[['Agatha', 'maths', 67, 'PASSED'], ['Terry', 'maths', 87, 'PASSED'], ['Bill', 'maths', 54, 'FAILED'], ['David', 'maths', 59, 'FAILED'], ['Caleb', 'maths', 92, 'PASSED'], ['Mahmud', 'maths', 52, 'FAILED'], ['Veronica', 'maths', 78, 'PASSED'], ['Kwasik', 'maths', 76, 'PASSED'], ['Nanteng', 'maths', 87, 'PASSED'], ['Chinenye', 'maths', 74, 'PASSED'], ['Madu', 'maths', 88, 'PASSED']]\n",
      "[['Bilkisu', 'biology', 61, 'PASSED'], ['Conrad', 'biology', 78, 'PASSED'], ['Bill', 'biology', 44, 'FAILED'], ['David', 'biology', 99, 'PASSED'], ['Kelvin', 'biology', 60, 'PASSED'], ['Mahmud', 'biology', 52, 'FAILED'], ['Veronica', 'biology', 58, 'FAILED'], ['Kwasik', 'biology', 76, 'PASSED'], ['Bwatamge', 'biology', 73, 'PASSED'], ['Chinenye', 'biology', 74, 'PASSED'], ['Cosmas', 'biology', 88, 'PASSED'], ['Moses', 'biology', 97, 'PASSED']]\n"
     ]
    }
   ],
   "source": [
    "chemStuds = ['Agatha', 'Terry', 'Bill', 'Vincent', 'Auwal', 'Tayo', 'Veronica', 'Chinenye', 'Madu']\n",
    "chemMarks = [55,67,76,58,97,56,45,76,87]\n",
    "\n",
    "mathsStuds = ['Agatha', 'Terry', 'Bill', 'David', 'Caleb', 'Mahmud', 'Veronica', 'Kwasik', 'Nanteng', 'Chinenye', 'Madu']\n",
    "mathsMarks = [67,87,54,59,92,52,78,76,87, 74,88]\n",
    "def CalcResults(students, scores,subject):    \n",
    "    tempList = []\n",
    "    for names,score in zip(students,scores):\n",
    "        status = \" \"\n",
    "        if score <60:\n",
    "            status = \"FAILED\"\n",
    "        else:\n",
    "            status = \"PASSED\"\n",
    "        tempList.append([names,subject, score, status])\n",
    "    return(tempList)\n",
    "\n",
    "mainList = [[chemStuds, chemMarks, 'chemistry'], [mathsStuds, mathsMarks,'maths'], [biologyStudent, biologyScore,'biology']]\n",
    "for records in mainList:\n",
    "    studs, marks, subs = records\n",
    "    results = CalcResults(studs, marks, subs)\n",
    "    print(results)"
   ]
  },
  {
   "cell_type": "code",
   "execution_count": null,
   "id": "1c398cf0",
   "metadata": {},
   "outputs": [],
   "source": []
  },
  {
   "cell_type": "code",
   "execution_count": null,
   "id": "47d77893",
   "metadata": {},
   "outputs": [],
   "source": []
  }
 ],
 "metadata": {
  "kernelspec": {
   "display_name": "Python 3 (ipykernel)",
   "language": "python",
   "name": "python3"
  },
  "language_info": {
   "codemirror_mode": {
    "name": "ipython",
    "version": 3
   },
   "file_extension": ".py",
   "mimetype": "text/x-python",
   "name": "python",
   "nbconvert_exporter": "python",
   "pygments_lexer": "ipython3",
   "version": "3.8.10"
  }
 },
 "nbformat": 4,
 "nbformat_minor": 5
}
