{
 "cells": [
  {
   "cell_type": "code",
   "execution_count": 1,
   "id": "c5de4733",
   "metadata": {},
   "outputs": [
    {
     "data": {
      "text/plain": [
       "{'mango juice': 20,\n",
       " 'Pepper': 10,\n",
       " 'Tomato Paste': 32,\n",
       " 'Eggs': 41.2,\n",
       " 'Soaps': 60}"
      ]
     },
     "execution_count": 1,
     "metadata": {},
     "output_type": "execute_result"
    }
   ],
   "source": [
    "food_amount = [20, 10, 32, 41.2, 60]\n",
    "food_items = ['mango juice', 'Pepper', 'Tomato Paste', 'Eggs', 'Soaps']\n",
    "\n",
    "food_list = dict(zip(food_items, food_amount))\n",
    "food_list"
   ]
  },
  {
   "cell_type": "code",
   "execution_count": 2,
   "id": "2c2610b8",
   "metadata": {},
   "outputs": [
    {
     "data": {
      "text/plain": [
       "dict_items([('mango juice', 20), ('Pepper', 10), ('Tomato Paste', 32), ('Eggs', 41.2), ('Soaps', 60)])"
      ]
     },
     "execution_count": 2,
     "metadata": {},
     "output_type": "execute_result"
    }
   ],
   "source": [
    "food_list.items()"
   ]
  },
  {
   "cell_type": "code",
   "execution_count": 3,
   "id": "a5c54578",
   "metadata": {},
   "outputs": [
    {
     "data": {
      "text/plain": [
       "<function dict.values>"
      ]
     },
     "execution_count": 3,
     "metadata": {},
     "output_type": "execute_result"
    }
   ],
   "source": [
    "food_list.values"
   ]
  },
  {
   "cell_type": "code",
   "execution_count": 6,
   "id": "8dbd6515",
   "metadata": {},
   "outputs": [
    {
     "ename": "TypeError",
     "evalue": "'dict_keys' object is not subscriptable",
     "output_type": "error",
     "traceback": [
      "\u001b[1;31m---------------------------------------------------------------------------\u001b[0m",
      "\u001b[1;31mTypeError\u001b[0m                                 Traceback (most recent call last)",
      "Cell \u001b[1;32mIn[6], line 1\u001b[0m\n\u001b[1;32m----> 1\u001b[0m \u001b[43mfood_list\u001b[49m\u001b[38;5;241;43m.\u001b[39;49m\u001b[43mkeys\u001b[49m\u001b[43m(\u001b[49m\u001b[43m)\u001b[49m\u001b[43m[\u001b[49m\u001b[38;5;241;43m0\u001b[39;49m\u001b[43m]\u001b[49m\n",
      "\u001b[1;31mTypeError\u001b[0m: 'dict_keys' object is not subscriptable"
     ]
    }
   ],
   "source": [
    "food_list.keys()"
   ]
  },
  {
   "cell_type": "code",
   "execution_count": 7,
   "id": "ac326a1d",
   "metadata": {},
   "outputs": [
    {
     "data": {
      "text/plain": [
       "dict_values([20, 10, 32, 41.2, 60])"
      ]
     },
     "execution_count": 7,
     "metadata": {},
     "output_type": "execute_result"
    }
   ],
   "source": [
    "food_list.values()"
   ]
  },
  {
   "cell_type": "code",
   "execution_count": 9,
   "id": "d395cb51",
   "metadata": {},
   "outputs": [
    {
     "name": "stdout",
     "output_type": "stream",
     "text": [
      "mango juice 20\n",
      "Pepper 10\n",
      "Tomato Paste 32\n",
      "Eggs 41.2\n",
      "Soaps 60\n"
     ]
    }
   ],
   "source": [
    "for items, amt in food_list.items():\n",
    "    print(items, amt)"
   ]
  },
  {
   "cell_type": "code",
   "execution_count": 12,
   "id": "8c47c78d",
   "metadata": {},
   "outputs": [],
   "source": [
    "# Numpy and methods\n",
    "import numpy as np\n",
    "array = np.arange(0,15)"
   ]
  },
  {
   "cell_type": "code",
   "execution_count": 13,
   "id": "b6594faf",
   "metadata": {},
   "outputs": [
    {
     "data": {
      "text/plain": [
       "array([0, 1, 2, 3, 4, 5])"
      ]
     },
     "execution_count": 13,
     "metadata": {},
     "output_type": "execute_result"
    }
   ],
   "source": [
    "# array[index:length]\n",
    "array[:6]"
   ]
  },
  {
   "cell_type": "code",
   "execution_count": 14,
   "id": "36c10ddc",
   "metadata": {},
   "outputs": [
    {
     "data": {
      "text/plain": [
       "array([0, 1, 2, 3, 4])"
      ]
     },
     "execution_count": 14,
     "metadata": {},
     "output_type": "execute_result"
    }
   ],
   "source": [
    "array[0:5]"
   ]
  },
  {
   "cell_type": "code",
   "execution_count": 15,
   "id": "fc216e99",
   "metadata": {},
   "outputs": [
    {
     "data": {
      "text/plain": [
       "array([ 8,  9, 10, 11, 12, 13, 14])"
      ]
     },
     "execution_count": 15,
     "metadata": {},
     "output_type": "execute_result"
    }
   ],
   "source": [
    "array[8:]"
   ]
  },
  {
   "cell_type": "code",
   "execution_count": 20,
   "id": "2f2aa20e",
   "metadata": {},
   "outputs": [
    {
     "data": {
      "text/plain": [
       "array([22, 22, 22, 22, 22, 22, 22])"
      ]
     },
     "execution_count": 20,
     "metadata": {},
     "output_type": "execute_result"
    }
   ],
   "source": [
    "# Numpy broadcasting (array[:]): broadcasting make a deep copy of the part of a code to the original code base\n",
    "# Numpy arrays accepts homogenous integer objects\n",
    "sliced_array = array[:7]\n",
    "sliced_array[:] = 22\n",
    "sliced_array"
   ]
  },
  {
   "cell_type": "code",
   "execution_count": 18,
   "id": "5cc09d79",
   "metadata": {},
   "outputs": [
    {
     "data": {
      "text/plain": [
       "array([22, 22, 22, 22, 22, 22, 22,  7,  8,  9, 10, 11, 12, 13, 14])"
      ]
     },
     "execution_count": 18,
     "metadata": {},
     "output_type": "execute_result"
    }
   ],
   "source": [
    "array"
   ]
  },
  {
   "cell_type": "raw",
   "id": "7edebb5f",
   "metadata": {},
   "source": []
  },
  {
   "cell_type": "code",
   "execution_count": 21,
   "id": "e78cdf1c",
   "metadata": {},
   "outputs": [
    {
     "ename": "TypeError",
     "evalue": "data type 'banaja' not understood",
     "output_type": "error",
     "traceback": [
      "\u001b[1;31m---------------------------------------------------------------------------\u001b[0m",
      "\u001b[1;31mTypeError\u001b[0m                                 Traceback (most recent call last)",
      "Cell \u001b[1;32mIn[21], line 1\u001b[0m\n\u001b[1;32m----> 1\u001b[0m arr \u001b[38;5;241m=\u001b[39m \u001b[43mnp\u001b[49m\u001b[38;5;241;43m.\u001b[39;49m\u001b[43marray\u001b[49m\u001b[43m(\u001b[49m\u001b[38;5;124;43m'\u001b[39;49m\u001b[38;5;124;43meggs\u001b[39;49m\u001b[38;5;124;43m'\u001b[39;49m\u001b[43m,\u001b[49m\u001b[43m \u001b[49m\u001b[38;5;124;43m'\u001b[39;49m\u001b[38;5;124;43mbanaja\u001b[39;49m\u001b[38;5;124;43m'\u001b[39;49m\u001b[43m)\u001b[49m\n\u001b[0;32m      2\u001b[0m arr\n",
      "\u001b[1;31mTypeError\u001b[0m: data type 'banaja' not understood"
     ]
    }
   ],
   "source": [
    "# Arrays are by rows and columns"
   ]
  },
  {
   "cell_type": "code",
   "execution_count": 28,
   "id": "9e8a80ba",
   "metadata": {},
   "outputs": [
    {
     "name": "stdout",
     "output_type": "stream",
     "text": [
      "(4, 3)\n"
     ]
    }
   ],
   "source": [
    "my_arr = [[1,2,3], [4,5,6], [7,8,9], [10,11,12]]\n",
    "b = np.array(my_arr)\n",
    "print(b.shape)\n",
    "# print(b.reshape(3,4))"
   ]
  },
  {
   "cell_type": "code",
   "execution_count": 29,
   "id": "fe851603",
   "metadata": {},
   "outputs": [
    {
     "name": "stdout",
     "output_type": "stream",
     "text": [
      "3\n"
     ]
    }
   ],
   "source": [
    "print(b[0][2])"
   ]
  },
  {
   "cell_type": "code",
   "execution_count": 31,
   "id": "ed8f7ce0",
   "metadata": {},
   "outputs": [
    {
     "name": "stdout",
     "output_type": "stream",
     "text": [
      "12\n"
     ]
    }
   ],
   "source": [
    "print(b.max())"
   ]
  },
  {
   "cell_type": "code",
   "execution_count": 33,
   "id": "000060e7",
   "metadata": {},
   "outputs": [
    {
     "name": "stdout",
     "output_type": "stream",
     "text": [
      "[ 1  2  3  4  5  6  7  8  9 10 11 12]\n"
     ]
    }
   ],
   "source": [
    "print(b.flatten())"
   ]
  },
  {
   "cell_type": "code",
   "execution_count": 34,
   "id": "0c1fc7e5",
   "metadata": {},
   "outputs": [
    {
     "name": "stdout",
     "output_type": "stream",
     "text": [
      "[1, 2, 3, 4, 5, 6, 7]\n"
     ]
    }
   ],
   "source": [
    "list_items = [1,2,3,4,5,6,7]\n",
    "print(list_items)"
   ]
  },
  {
   "cell_type": "code",
   "execution_count": 35,
   "id": "ca8a73e2",
   "metadata": {},
   "outputs": [
    {
     "ename": "AttributeError",
     "evalue": "'list' object has no attribute 'max'",
     "output_type": "error",
     "traceback": [
      "\u001b[1;31m---------------------------------------------------------------------------\u001b[0m",
      "\u001b[1;31mAttributeError\u001b[0m                            Traceback (most recent call last)",
      "Cell \u001b[1;32mIn[35], line 1\u001b[0m\n\u001b[1;32m----> 1\u001b[0m \u001b[38;5;28mprint\u001b[39m(\u001b[43mlist_items\u001b[49m\u001b[38;5;241;43m.\u001b[39;49m\u001b[43mmax\u001b[49m)\n",
      "\u001b[1;31mAttributeError\u001b[0m: 'list' object has no attribute 'max'"
     ]
    }
   ],
   "source": [
    "print(list_items.max)"
   ]
  },
  {
   "cell_type": "code",
   "execution_count": 39,
   "id": "73fc98e6",
   "metadata": {},
   "outputs": [
    {
     "name": "stdout",
     "output_type": "stream",
     "text": [
      "[[1, 2, 3], [4, 5, 6], [7, 8, 9]]\n"
     ]
    }
   ],
   "source": [
    "list_i = [[1,2,3], [4,5,6], [7,8,9]]\n",
    "print(list_i)"
   ]
  },
  {
   "cell_type": "code",
   "execution_count": 58,
   "id": "5757b8a0",
   "metadata": {},
   "outputs": [
    {
     "name": "stdout",
     "output_type": "stream",
     "text": [
      "7 found\n",
      "Elapsed time:  0.003986835479736328 seconds\n"
     ]
    }
   ],
   "source": [
    "import time\n",
    "\n",
    "start_time = time.time()\n",
    "for x in list_i:\n",
    "    for y in x:\n",
    "        if(y == 7):\n",
    "            print(f'{y} found')\n",
    "end_time = time.time()\n",
    "elapsed_time = end_time - start_time\n",
    "\n",
    "print(\"Elapsed time: \", elapsed_time, \"seconds\")\n"
   ]
  },
  {
   "cell_type": "code",
   "execution_count": 55,
   "id": "6edb70ad",
   "metadata": {},
   "outputs": [
    {
     "data": {
      "text/plain": [
       "array([[1, 2, 3],\n",
       "       [4, 5, 6],\n",
       "       [7, 8, 9]])"
      ]
     },
     "execution_count": 55,
     "metadata": {},
     "output_type": "execute_result"
    }
   ],
   "source": [
    "arr_i = np.array([[1,2,3], [4,5,6], [7,8,9]])\n",
    "arr_i"
   ]
  },
  {
   "cell_type": "code",
   "execution_count": 59,
   "id": "d4c6fdad",
   "metadata": {},
   "outputs": [
    {
     "name": "stdout",
     "output_type": "stream",
     "text": [
      "Elapsed time:  0.001161336898803711 seconds\n"
     ]
    }
   ],
   "source": [
    "start_time = time.time()\n",
    "arr_i[2][0]\n",
    "end_time = time.time()\n",
    "elapsed_time = end_time - start_time\n",
    "\n",
    "print(\"Elapsed time: \", elapsed_time, \"seconds\")"
   ]
  },
  {
   "cell_type": "code",
   "execution_count": null,
   "id": "7ffb495c",
   "metadata": {},
   "outputs": [],
   "source": []
  }
 ],
 "metadata": {
  "kernelspec": {
   "display_name": "onecampusenv",
   "language": "python",
   "name": "onecampusenv"
  },
  "language_info": {
   "codemirror_mode": {
    "name": "ipython",
    "version": 3
   },
   "file_extension": ".py",
   "mimetype": "text/x-python",
   "name": "python",
   "nbconvert_exporter": "python",
   "pygments_lexer": "ipython3",
   "version": "3.10.10"
  }
 },
 "nbformat": 4,
 "nbformat_minor": 5
}
