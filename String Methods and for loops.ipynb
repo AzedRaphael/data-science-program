{
 "cells": [
  {
   "cell_type": "code",
   "execution_count": 1,
   "id": "3d01e3ac",
   "metadata": {},
   "outputs": [],
   "source": [
    "studentName = \"Raphael Enweazu\""
   ]
  },
  {
   "cell_type": "code",
   "execution_count": 2,
   "id": "8974d742",
   "metadata": {},
   "outputs": [
    {
     "name": "stdout",
     "output_type": "stream",
     "text": [
      "the character R in index position 0\n",
      "the character a in index position 1\n",
      "the character p in index position 2\n",
      "the character h in index position 3\n",
      "the character a in index position 1\n",
      "the character e in index position 5\n",
      "the character l in index position 6\n",
      "the character   in index position 7\n",
      "the character E in index position 8\n",
      "the character n in index position 9\n",
      "the character w in index position 10\n",
      "the character e in index position 5\n",
      "the character a in index position 1\n",
      "the character z in index position 13\n",
      "the character u in index position 14\n"
     ]
    }
   ],
   "source": [
    "for char in studentName:\n",
    "    idx = studentName.index(char)\n",
    "    print(f'the character {char} in index position {idx}')"
   ]
  },
  {
   "cell_type": "code",
   "execution_count": 3,
   "id": "68dd0ae0",
   "metadata": {},
   "outputs": [
    {
     "name": "stdout",
     "output_type": "stream",
     "text": [
      "Rapha\n"
     ]
    }
   ],
   "source": [
    "print(studentName[0:5])"
   ]
  },
  {
   "cell_type": "code",
   "execution_count": 4,
   "id": "7171aef7",
   "metadata": {},
   "outputs": [
    {
     "name": "stdout",
     "output_type": "stream",
     "text": [
      "Rapha\n"
     ]
    }
   ],
   "source": [
    "print(studentName[:5])"
   ]
  },
  {
   "cell_type": "code",
   "execution_count": 5,
   "id": "7b964513",
   "metadata": {},
   "outputs": [
    {
     "name": "stdout",
     "output_type": "stream",
     "text": [
      "el Enweazu\n"
     ]
    }
   ],
   "source": [
    "print(studentName[5:])"
   ]
  },
  {
   "cell_type": "code",
   "execution_count": 6,
   "id": "fa10a25c",
   "metadata": {},
   "outputs": [
    {
     "name": "stdout",
     "output_type": "stream",
     "text": [
      "Raph\n"
     ]
    }
   ],
   "source": [
    "print(studentName[0:4])"
   ]
  },
  {
   "cell_type": "code",
   "execution_count": 7,
   "id": "f10d841b",
   "metadata": {},
   "outputs": [],
   "source": [
    "studentRef = \"012345678_james_doe\""
   ]
  },
  {
   "cell_type": "code",
   "execution_count": 8,
   "id": "5f3ca0d1",
   "metadata": {},
   "outputs": [
    {
     "name": "stdout",
     "output_type": "stream",
     "text": [
      "ames_\n"
     ]
    }
   ],
   "source": [
    "print(studentRef[11:16])"
   ]
  },
  {
   "cell_type": "code",
   "execution_count": 9,
   "id": "5667cd6a",
   "metadata": {},
   "outputs": [
    {
     "name": "stdout",
     "output_type": "stream",
     "text": [
      "james_\n"
     ]
    }
   ],
   "source": [
    "print(studentRef[10:16])"
   ]
  },
  {
   "cell_type": "code",
   "execution_count": 10,
   "id": "42c52255",
   "metadata": {},
   "outputs": [
    {
     "name": "stdout",
     "output_type": "stream",
     "text": [
      "012345678\n"
     ]
    }
   ],
   "source": [
    "print(studentRef[0:9])"
   ]
  },
  {
   "cell_type": "code",
   "execution_count": 11,
   "id": "22e69492",
   "metadata": {},
   "outputs": [
    {
     "name": "stdout",
     "output_type": "stream",
     "text": [
      "012345678\n"
     ]
    }
   ],
   "source": [
    "print(studentRef[0:9])\n",
    "\n",
    "# include index position 0 but exclude position 9"
   ]
  },
  {
   "cell_type": "code",
   "execution_count": 12,
   "id": "f6adfd28",
   "metadata": {},
   "outputs": [
    {
     "name": "stdout",
     "output_type": "stream",
     "text": [
      "james\n"
     ]
    }
   ],
   "source": [
    "print(studentRef[10:15])"
   ]
  },
  {
   "cell_type": "code",
   "execution_count": 13,
   "id": "c56f4508",
   "metadata": {},
   "outputs": [
    {
     "ename": "TypeError",
     "evalue": "must be str, not int",
     "output_type": "error",
     "traceback": [
      "\u001b[1;31m---------------------------------------------------------------------------\u001b[0m",
      "\u001b[1;31mTypeError\u001b[0m                                 Traceback (most recent call last)",
      "Cell \u001b[1;32mIn[13], line 1\u001b[0m\n\u001b[1;32m----> 1\u001b[0m \u001b[38;5;28mprint\u001b[39m(\u001b[43mstudentRef\u001b[49m\u001b[38;5;241;43m.\u001b[39;49m\u001b[43mindex\u001b[49m\u001b[43m(\u001b[49m\u001b[38;5;241;43m2\u001b[39;49m\u001b[43m)\u001b[49m)\n",
      "\u001b[1;31mTypeError\u001b[0m: must be str, not int"
     ]
    }
   ],
   "source": [
    "print(studentRef.index(2))"
   ]
  },
  {
   "cell_type": "code",
   "execution_count": 14,
   "id": "f5125f53",
   "metadata": {},
   "outputs": [
    {
     "ename": "SyntaxError",
     "evalue": "unexpected EOF while parsing (1571635282.py, line 1)",
     "output_type": "error",
     "traceback": [
      "\u001b[1;36m  Cell \u001b[1;32mIn[14], line 1\u001b[1;36m\u001b[0m\n\u001b[1;33m    print(studentRef[2]\u001b[0m\n\u001b[1;37m                       ^\u001b[0m\n\u001b[1;31mSyntaxError\u001b[0m\u001b[1;31m:\u001b[0m unexpected EOF while parsing\n"
     ]
    }
   ],
   "source": [
    "print(studentRef[2]"
   ]
  },
  {
   "cell_type": "code",
   "execution_count": 15,
   "id": "bb862e48",
   "metadata": {},
   "outputs": [
    {
     "data": {
      "text/plain": [
       "'2'"
      ]
     },
     "execution_count": 15,
     "metadata": {},
     "output_type": "execute_result"
    }
   ],
   "source": [
    "studentRef[2]"
   ]
  },
  {
   "cell_type": "code",
   "execution_count": 16,
   "id": "80443f58",
   "metadata": {},
   "outputs": [
    {
     "ename": "SyntaxError",
     "evalue": "unexpected EOF while parsing (1822956969.py, line 1)",
     "output_type": "error",
     "traceback": [
      "\u001b[1;36m  Cell \u001b[1;32mIn[16], line 1\u001b[1;36m\u001b[0m\n\u001b[1;33m    print(studentRef.find(\"j\")\u001b[0m\n\u001b[1;37m                              ^\u001b[0m\n\u001b[1;31mSyntaxError\u001b[0m\u001b[1;31m:\u001b[0m unexpected EOF while parsing\n"
     ]
    }
   ],
   "source": [
    "print(studentRef.find(\"j\")"
   ]
  },
  {
   "cell_type": "code",
   "execution_count": 19,
   "id": "6030d2af",
   "metadata": {},
   "outputs": [
    {
     "data": {
      "text/plain": [
       "10"
      ]
     },
     "execution_count": 19,
     "metadata": {},
     "output_type": "execute_result"
    }
   ],
   "source": [
    "studentRef.index(\"j\")"
   ]
  },
  {
   "cell_type": "code",
   "execution_count": 20,
   "id": "4b65f6d8",
   "metadata": {},
   "outputs": [],
   "source": [
    "name = \"raphael\""
   ]
  },
  {
   "cell_type": "code",
   "execution_count": 21,
   "id": "96154e17",
   "metadata": {},
   "outputs": [
    {
     "data": {
      "text/plain": [
       "'Raphael'"
      ]
     },
     "execution_count": 21,
     "metadata": {},
     "output_type": "execute_result"
    }
   ],
   "source": [
    "name.capitalize()"
   ]
  },
  {
   "cell_type": "code",
   "execution_count": 22,
   "id": "0d2e2116",
   "metadata": {},
   "outputs": [
    {
     "data": {
      "text/plain": [
       "'raphael'"
      ]
     },
     "execution_count": 22,
     "metadata": {},
     "output_type": "execute_result"
    }
   ],
   "source": [
    "name.casefold()"
   ]
  },
  {
   "cell_type": "code",
   "execution_count": 23,
   "id": "1c62d10f",
   "metadata": {},
   "outputs": [],
   "source": [
    "vulgarWords = [\"fuck\", \"stupid\", \"fool\", \"mad\", \"insane\"]"
   ]
  },
  {
   "cell_type": "code",
   "execution_count": 25,
   "id": "08c88b80",
   "metadata": {},
   "outputs": [
    {
     "ename": "SyntaxError",
     "evalue": "EOL while scanning string literal (1697016264.py, line 1)",
     "output_type": "error",
     "traceback": [
      "\u001b[1;36m  Cell \u001b[1;32mIn[25], line 1\u001b[1;36m\u001b[0m\n\u001b[1;33m    message = \"Oh he decisively impression attachment friendship so if everything. Whose her enjoy chief new young. Felicity if ye required likewise so doubtful. On so attention necessary at by provision otherwise existence direction. Unpleasing up announcing unpleasant themselves oh do on. Way advantage age led listening belonging supposing.\u001b[0m\n\u001b[1;37m                                                                                                                                                                                                                                                                                                                                                        ^\u001b[0m\n\u001b[1;31mSyntaxError\u001b[0m\u001b[1;31m:\u001b[0m EOL while scanning string literal\n"
     ]
    }
   ],
   "source": [
    "message = \"Oh he decisively impression attachment friendship so if everything. Whose her enjoy chief new young. Felicity if ye required likewise so doubtful. On so attention necessary at by provision otherwise existence direction. Unpleasing up announcing unpleasant themselves oh do on. Way advantage age led listening belonging supposing.\n",
    "\n",
    "Terminated principles sentiments of no pianoforte if projection impossible. Horses pulled nature favour number yet highly his has old. Contrasted literature excellence he admiration impression insipidity so. Scale ought who terms after own quick since. Servants margaret husbands to screened in throwing. Imprudence oh an collecting partiality. Admiration gay difficulty unaffected how.\n",
    "\n",
    "Offices parties lasting outward nothing age few resolve. Impression to discretion understood to we interested he excellence. Him remarkably use projection collecting. Going about eat forty world has round miles. Attention affection at my preferred offending shameless me if agreeable. Life lain held calm and true neat she. Much feet each so went no from. Truth began maids linen an mr to after.\""
   ]
  },
  {
   "cell_type": "code",
   "execution_count": 31,
   "id": "2deee812",
   "metadata": {},
   "outputs": [],
   "source": [
    "message = ''' mad 0h he decisively impression attachment mad friendship so if everything. Whose her enjoy chief new young. Felicity if ye required likewise so doubtful. On so attention necessary at by provision otherwise existence direction. Unpleasing up announcing unpleasant themselves oh do on. Way advantage age led listening belonging supposing.\n",
    "\n",
    "Terminated principles sentiments of no pianoforte if projection impossible. Horses stupid pulled nature favour number yet highly his has old. Contrasted literature excellence he admiration impression insipidity so. Scale ought who terms after own quick since. Servants margaret husbands to screened in throwing. Imprudence oh an collecting partiality. Admiration gay difficulty unaffected how.\n",
    "\n",
    "Offices parties lasting outward nothing age few resolve. Impression fuck to discretion understood to we interested he excellence. Him remarkably use projection insane collecting. Going about eat forty world has round miles. Attention affection at my preferred offending shameless me if agreeable. Life lain held calm and true neat she. Much feet each so went no from. Truth began maids linen an mr to after.'''"
   ]
  },
  {
   "cell_type": "code",
   "execution_count": 32,
   "id": "869492c3",
   "metadata": {},
   "outputs": [
    {
     "name": "stdout",
     "output_type": "stream",
     "text": [
      "the foul worss in messages can be found in position 803\n",
      "the foul worss in messages can be found in position 423\n"
     ]
    },
    {
     "ename": "ValueError",
     "evalue": "substring not found",
     "output_type": "error",
     "traceback": [
      "\u001b[1;31m---------------------------------------------------------------------------\u001b[0m",
      "\u001b[1;31mValueError\u001b[0m                                Traceback (most recent call last)",
      "Cell \u001b[1;32mIn[32], line 2\u001b[0m\n\u001b[0;32m      1\u001b[0m \u001b[38;5;28;01mfor\u001b[39;00m char \u001b[38;5;129;01min\u001b[39;00m vulgarWords:\n\u001b[1;32m----> 2\u001b[0m     idx \u001b[38;5;241m=\u001b[39m \u001b[43mmessage\u001b[49m\u001b[38;5;241;43m.\u001b[39;49m\u001b[43mindex\u001b[49m\u001b[43m(\u001b[49m\u001b[43mchar\u001b[49m\u001b[43m)\u001b[49m\n\u001b[0;32m      3\u001b[0m     \u001b[38;5;28mprint\u001b[39m(\u001b[38;5;124mf\u001b[39m\u001b[38;5;124m'\u001b[39m\u001b[38;5;124mthe foul worss in messages can be found in position \u001b[39m\u001b[38;5;132;01m{\u001b[39;00midx\u001b[38;5;132;01m}\u001b[39;00m\u001b[38;5;124m'\u001b[39m)\n",
      "\u001b[1;31mValueError\u001b[0m: substring not found"
     ]
    }
   ],
   "source": [
    "for char in vulgarWords:\n",
    "    idx = message.index(char)\n",
    "    print(f'the foul worss in messages can be found in position {idx}')"
   ]
  },
  {
   "cell_type": "code",
   "execution_count": 33,
   "id": "6f36c5d6",
   "metadata": {},
   "outputs": [
    {
     "name": "stdout",
     "output_type": "stream",
     "text": [
      "the foul words in messages can be found in position 803\n",
      "the foul words in messages can be found in position 423\n",
      "the foul words in messages can be found in position 1\n",
      "the foul words in messages can be found in position 895\n"
     ]
    }
   ],
   "source": [
    "for char in vulgarWords:\n",
    "    if char in message:\n",
    "        idx = message.index(char)\n",
    "        print(f'the foul words in messages can be found in position {idx}')"
   ]
  },
  {
   "cell_type": "code",
   "execution_count": 34,
   "id": "141d7aca",
   "metadata": {},
   "outputs": [
    {
     "name": "stdout",
     "output_type": "stream",
     "text": [
      "the foul words in messages can be found in position 803\n",
      "the foul words in messages can be found in position 423\n",
      "the foul words in messages can be found in position 1\n",
      "the foul words in messages can be found in position 895\n"
     ]
    }
   ],
   "source": [
    "for char in vulgarWords:\n",
    "    if char in message:\n",
    "        idx = message.index(char)\n",
    "        print(f'the foul words in messages can be found in position {idx}')\n",
    "        "
   ]
  },
  {
   "cell_type": "code",
   "execution_count": 35,
   "id": "df4aba88",
   "metadata": {},
   "outputs": [
    {
     "name": "stdout",
     "output_type": "stream",
     "text": [
      "the foul words in messages can be found in position 803\n",
      "the foul words in messages can be found in position 423\n",
      "the foul words in messages can be found in position 1\n",
      "the foul words in messages can be found in position 895\n"
     ]
    }
   ],
   "source": [
    "for char in vulgarWords:\n",
    "    if char in message:\n",
    "        idx = message.index(char)\n",
    "        print(f'the foul words in messages can be found in position {idx}')"
   ]
  },
  {
   "cell_type": "code",
   "execution_count": 36,
   "id": "7f8f3298",
   "metadata": {},
   "outputs": [],
   "source": [
    "strName1 = \"Raphael\""
   ]
  },
  {
   "cell_type": "code",
   "execution_count": 37,
   "id": "77f8a5b6",
   "metadata": {},
   "outputs": [
    {
     "data": {
      "text/plain": [
       "'l'"
      ]
     },
     "execution_count": 37,
     "metadata": {},
     "output_type": "execute_result"
    }
   ],
   "source": [
    "strName1[len(strName1) - 1]"
   ]
  },
  {
   "cell_type": "code",
   "execution_count": 38,
   "id": "e74777c9",
   "metadata": {},
   "outputs": [
    {
     "data": {
      "text/plain": [
       "'l'"
      ]
     },
     "execution_count": 38,
     "metadata": {},
     "output_type": "execute_result"
    }
   ],
   "source": [
    "strName1[-1]"
   ]
  },
  {
   "cell_type": "code",
   "execution_count": 39,
   "id": "d3c80e65",
   "metadata": {},
   "outputs": [
    {
     "data": {
      "text/plain": [
       "'e'"
      ]
     },
     "execution_count": 39,
     "metadata": {},
     "output_type": "execute_result"
    }
   ],
   "source": [
    "strName1[-2]"
   ]
  },
  {
   "cell_type": "code",
   "execution_count": 40,
   "id": "cc5a3907",
   "metadata": {},
   "outputs": [
    {
     "name": "stdout",
     "output_type": "stream",
     "text": [
      "Raphael\n"
     ]
    }
   ],
   "source": [
    "# zfill: this fills the string with zeros\n",
    "print(strName1.zfill(5))"
   ]
  },
  {
   "cell_type": "code",
   "execution_count": 41,
   "id": "94e89354",
   "metadata": {},
   "outputs": [
    {
     "ename": "AttributeError",
     "evalue": "'int' object has no attribute 'zfill'",
     "output_type": "error",
     "traceback": [
      "\u001b[1;31m---------------------------------------------------------------------------\u001b[0m",
      "\u001b[1;31mAttributeError\u001b[0m                            Traceback (most recent call last)",
      "Cell \u001b[1;32mIn[41], line 2\u001b[0m\n\u001b[0;32m      1\u001b[0m number \u001b[38;5;241m=\u001b[39m \u001b[38;5;241m10\u001b[39m\n\u001b[1;32m----> 2\u001b[0m \u001b[38;5;28mprint\u001b[39m(\u001b[43mnumber\u001b[49m\u001b[38;5;241;43m.\u001b[39;49m\u001b[43mzfill\u001b[49m(\u001b[38;5;241m6\u001b[39m))\n",
      "\u001b[1;31mAttributeError\u001b[0m: 'int' object has no attribute 'zfill'"
     ]
    }
   ],
   "source": [
    "number = 10\n",
    "print(number.zfill(6))"
   ]
  },
  {
   "cell_type": "code",
   "execution_count": 42,
   "id": "c48aad4f",
   "metadata": {},
   "outputs": [
    {
     "name": "stdout",
     "output_type": "stream",
     "text": [
      "00010\n"
     ]
    }
   ],
   "source": [
    "number1 = \"10\"\n",
    "print(number1.zfill(5))"
   ]
  },
  {
   "cell_type": "code",
   "execution_count": 43,
   "id": "6dab53d6",
   "metadata": {},
   "outputs": [
    {
     "name": "stdout",
     "output_type": "stream",
     "text": [
      "0000000000000Raphael\n"
     ]
    }
   ],
   "source": [
    "print(strName1.zfill(20))"
   ]
  },
  {
   "cell_type": "code",
   "execution_count": 44,
   "id": "7b9473f5",
   "metadata": {},
   "outputs": [
    {
     "name": "stdout",
     "output_type": "stream",
     "text": [
      "Enweazu\n"
     ]
    }
   ],
   "source": [
    "fullname = \"Enweazu Raphael\"\n",
    "print(fullname[:7])"
   ]
  },
  {
   "cell_type": "code",
   "execution_count": 45,
   "id": "764d5679",
   "metadata": {},
   "outputs": [
    {
     "name": "stdout",
     "output_type": "stream",
     "text": [
      "ENWEAZU RAPHAEL\n"
     ]
    }
   ],
   "source": [
    "# upper(): turn strings to uppercase\n",
    "print(fullname.upper())"
   ]
  },
  {
   "cell_type": "code",
   "execution_count": 46,
   "id": "eda34ca8",
   "metadata": {},
   "outputs": [
    {
     "name": "stdout",
     "output_type": "stream",
     "text": [
      "Enweazu Raphael\n"
     ]
    }
   ],
   "source": [
    "# title(): converts the first character of a string to uppercase\n",
    "print(fullname.title())"
   ]
  },
  {
   "cell_type": "code",
   "execution_count": 47,
   "id": "a4c2b62b",
   "metadata": {},
   "outputs": [
    {
     "name": "stdout",
     "output_type": "stream",
     "text": [
      "eNWEAZU rAPHAEL\n"
     ]
    }
   ],
   "source": [
    "# swapcase(): swaps lower case to upper and vice versa\n",
    "print(fullname.swapcase())"
   ]
  },
  {
   "cell_type": "code",
   "execution_count": 50,
   "id": "7956d774",
   "metadata": {},
   "outputs": [
    {
     "name": "stdout",
     "output_type": "stream",
     "text": [
      "there is no new space between this sentence\n"
     ]
    }
   ],
   "source": [
    "# strip(): removes all whitespace before and after the string\n",
    "text = \"    space     \"\n",
    "newText = text.strip()\n",
    "print(f'there is no new {newText} between this sentence')"
   ]
  },
  {
   "cell_type": "code",
   "execution_count": 51,
   "id": "a1167c3d",
   "metadata": {},
   "outputs": [
    {
     "data": {
      "text/plain": [
       "['mad',\n",
       " '0h',\n",
       " 'he',\n",
       " 'decisively',\n",
       " 'impression',\n",
       " 'attachment',\n",
       " 'mad',\n",
       " 'friendship',\n",
       " 'so',\n",
       " 'if',\n",
       " 'everything.',\n",
       " 'Whose',\n",
       " 'her',\n",
       " 'enjoy',\n",
       " 'chief',\n",
       " 'new',\n",
       " 'young.',\n",
       " 'Felicity',\n",
       " 'if',\n",
       " 'ye',\n",
       " 'required',\n",
       " 'likewise',\n",
       " 'so',\n",
       " 'doubtful.',\n",
       " 'On',\n",
       " 'so',\n",
       " 'attention',\n",
       " 'necessary',\n",
       " 'at',\n",
       " 'by',\n",
       " 'provision',\n",
       " 'otherwise',\n",
       " 'existence',\n",
       " 'direction.',\n",
       " 'Unpleasing',\n",
       " 'up',\n",
       " 'announcing',\n",
       " 'unpleasant',\n",
       " 'themselves',\n",
       " 'oh',\n",
       " 'do',\n",
       " 'on.',\n",
       " 'Way',\n",
       " 'advantage',\n",
       " 'age',\n",
       " 'led',\n",
       " 'listening',\n",
       " 'belonging',\n",
       " 'supposing.',\n",
       " 'Terminated',\n",
       " 'principles',\n",
       " 'sentiments',\n",
       " 'of',\n",
       " 'no',\n",
       " 'pianoforte',\n",
       " 'if',\n",
       " 'projection',\n",
       " 'impossible.',\n",
       " 'Horses',\n",
       " 'stupid',\n",
       " 'pulled',\n",
       " 'nature',\n",
       " 'favour',\n",
       " 'number',\n",
       " 'yet',\n",
       " 'highly',\n",
       " 'his',\n",
       " 'has',\n",
       " 'old.',\n",
       " 'Contrasted',\n",
       " 'literature',\n",
       " 'excellence',\n",
       " 'he',\n",
       " 'admiration',\n",
       " 'impression',\n",
       " 'insipidity',\n",
       " 'so.',\n",
       " 'Scale',\n",
       " 'ought',\n",
       " 'who',\n",
       " 'terms',\n",
       " 'after',\n",
       " 'own',\n",
       " 'quick',\n",
       " 'since.',\n",
       " 'Servants',\n",
       " 'margaret',\n",
       " 'husbands',\n",
       " 'to',\n",
       " 'screened',\n",
       " 'in',\n",
       " 'throwing.',\n",
       " 'Imprudence',\n",
       " 'oh',\n",
       " 'an',\n",
       " 'collecting',\n",
       " 'partiality.',\n",
       " 'Admiration',\n",
       " 'gay',\n",
       " 'difficulty',\n",
       " 'unaffected',\n",
       " 'how.',\n",
       " 'Offices',\n",
       " 'parties',\n",
       " 'lasting',\n",
       " 'outward',\n",
       " 'nothing',\n",
       " 'age',\n",
       " 'few',\n",
       " 'resolve.',\n",
       " 'Impression',\n",
       " 'fuck',\n",
       " 'to',\n",
       " 'discretion',\n",
       " 'understood',\n",
       " 'to',\n",
       " 'we',\n",
       " 'interested',\n",
       " 'he',\n",
       " 'excellence.',\n",
       " 'Him',\n",
       " 'remarkably',\n",
       " 'use',\n",
       " 'projection',\n",
       " 'insane',\n",
       " 'collecting.',\n",
       " 'Going',\n",
       " 'about',\n",
       " 'eat',\n",
       " 'forty',\n",
       " 'world',\n",
       " 'has',\n",
       " 'round',\n",
       " 'miles.',\n",
       " 'Attention',\n",
       " 'affection',\n",
       " 'at',\n",
       " 'my',\n",
       " 'preferred',\n",
       " 'offending',\n",
       " 'shameless',\n",
       " 'me',\n",
       " 'if',\n",
       " 'agreeable.',\n",
       " 'Life',\n",
       " 'lain',\n",
       " 'held',\n",
       " 'calm',\n",
       " 'and',\n",
       " 'true',\n",
       " 'neat',\n",
       " 'she.',\n",
       " 'Much',\n",
       " 'feet',\n",
       " 'each',\n",
       " 'so',\n",
       " 'went',\n",
       " 'no',\n",
       " 'from.',\n",
       " 'Truth',\n",
       " 'began',\n",
       " 'maids',\n",
       " 'linen',\n",
       " 'an',\n",
       " 'mr',\n",
       " 'to',\n",
       " 'after.']"
      ]
     },
     "execution_count": 51,
     "metadata": {},
     "output_type": "execute_result"
    }
   ],
   "source": [
    "# split():Splits the string at the specified separator, and returns a list\n",
    "message.split()"
   ]
  },
  {
   "cell_type": "code",
   "execution_count": 52,
   "id": "2c649abb",
   "metadata": {},
   "outputs": [],
   "source": [
    "newMessage = message.split()"
   ]
  },
  {
   "cell_type": "code",
   "execution_count": 53,
   "id": "a9816576",
   "metadata": {},
   "outputs": [
    {
     "data": {
      "text/plain": [
       "167"
      ]
     },
     "execution_count": 53,
     "metadata": {},
     "output_type": "execute_result"
    }
   ],
   "source": [
    "len(newMessage)"
   ]
  },
  {
   "cell_type": "code",
   "execution_count": 54,
   "id": "1436d672",
   "metadata": {},
   "outputs": [
    {
     "name": "stdout",
     "output_type": "stream",
     "text": [
      "167\n"
     ]
    }
   ],
   "source": [
    "print(len(newMessage))"
   ]
  },
  {
   "cell_type": "code",
   "execution_count": 56,
   "id": "99f3c46e",
   "metadata": {},
   "outputs": [
    {
     "name": "stdout",
     "output_type": "stream",
     "text": [
      "['Thank you ', 'welcome to python']\n"
     ]
    }
   ],
   "source": [
    "text2 = \"Thank you \\nwelcome to python\"\n",
    "print(text2.splitlines())"
   ]
  },
  {
   "cell_type": "code",
   "execution_count": 57,
   "id": "a8e087f5",
   "metadata": {},
   "outputs": [
    {
     "name": "stdout",
     "output_type": "stream",
     "text": [
      "raph\n"
     ]
    }
   ],
   "source": [
    "# multiple assigment variables\n",
    "x,y,z = \"raph\", 28, \"tech_bro\"\n",
    "print(x)"
   ]
  },
  {
   "cell_type": "code",
   "execution_count": 58,
   "id": "040def92",
   "metadata": {},
   "outputs": [
    {
     "name": "stdout",
     "output_type": "stream",
     "text": [
      "28 tech_bro\n"
     ]
    }
   ],
   "source": [
    "print(y, z)"
   ]
  },
  {
   "cell_type": "code",
   "execution_count": 59,
   "id": "cf33b926",
   "metadata": {},
   "outputs": [
    {
     "data": {
      "text/plain": [
       "'1230456'"
      ]
     },
     "execution_count": 59,
     "metadata": {},
     "output_type": "execute_result"
    }
   ],
   "source": [
    "accountInfo = \"john_doe_savingsAccount_1230456\"\n",
    "accountInfo.split(\"_\")\n",
    "firstname, lastname, savingType, accountNumber = accountInfo.split(\"_\")\n",
    "firstname\n",
    "lastname\n",
    "savingType\n",
    "accountNumber"
   ]
  },
  {
   "cell_type": "code",
   "execution_count": 60,
   "id": "83827caf",
   "metadata": {},
   "outputs": [
    {
     "data": {
      "text/plain": [
       "'john'"
      ]
     },
     "execution_count": 60,
     "metadata": {},
     "output_type": "execute_result"
    }
   ],
   "source": [
    "firstname"
   ]
  },
  {
   "cell_type": "code",
   "execution_count": 61,
   "id": "fab8cbcc",
   "metadata": {},
   "outputs": [
    {
     "data": {
      "text/plain": [
       "['john', 'doe', 'savingsAccount', '1230456']"
      ]
     },
     "execution_count": 61,
     "metadata": {},
     "output_type": "execute_result"
    }
   ],
   "source": [
    "accountInfo.split(\"_\")"
   ]
  },
  {
   "cell_type": "code",
   "execution_count": 66,
   "id": "086a7061",
   "metadata": {},
   "outputs": [
    {
     "data": {
      "text/plain": [
       "['apple', 'banana', 'cherry']"
      ]
     },
     "execution_count": 66,
     "metadata": {},
     "output_type": "execute_result"
    }
   ],
   "source": [
    "text2 = \"apple, banana, cherry\"\n",
    "text2.rsplit(\", \")\n"
   ]
  },
  {
   "cell_type": "code",
   "execution_count": 67,
   "id": "32709973",
   "metadata": {},
   "outputs": [
    {
     "data": {
      "text/plain": [
       "'     mango'"
      ]
     },
     "execution_count": 67,
     "metadata": {},
     "output_type": "execute_result"
    }
   ],
   "source": [
    "# rjust(): Return a 10 characters long, right justified version of the word.\n",
    "text4 = \"mango\"\n",
    "text4.rjust(10)"
   ]
  },
  {
   "cell_type": "code",
   "execution_count": 68,
   "id": "12ad45ad",
   "metadata": {},
   "outputs": [
    {
     "data": {
      "text/plain": [
       "'mango     '"
      ]
     },
     "execution_count": 68,
     "metadata": {},
     "output_type": "execute_result"
    }
   ],
   "source": [
    "# ljust(): Return a 10 characters long, left justified version of the word.\n",
    "text4 = \"mango\"\n",
    "text4.ljust(10)"
   ]
  },
  {
   "cell_type": "code",
   "execution_count": 69,
   "id": "0d0a2827",
   "metadata": {},
   "outputs": [
    {
     "data": {
      "text/plain": [
       "False"
      ]
     },
     "execution_count": 69,
     "metadata": {},
     "output_type": "execute_result"
    }
   ],
   "source": [
    "# isspace() Returns True if all characters in the string are whitespaces\n",
    "fullname.isspace()"
   ]
  },
  {
   "cell_type": "code",
   "execution_count": 70,
   "id": "849cb119",
   "metadata": {},
   "outputs": [
    {
     "data": {
      "text/plain": [
       "False"
      ]
     },
     "execution_count": 70,
     "metadata": {},
     "output_type": "execute_result"
    }
   ],
   "source": [
    "text4.isspace()"
   ]
  },
  {
   "cell_type": "code",
   "execution_count": 82,
   "id": "ac378789",
   "metadata": {},
   "outputs": [
    {
     "name": "stdout",
     "output_type": "stream",
     "text": [
      "u is on position 0\n",
      "u is on position 9\n",
      "u is on position 10\n",
      "u is on position 11\n",
      "u is on position 12\n"
     ]
    }
   ],
   "source": [
    "counter = 0\n",
    "searchChar = \"u\"\n",
    "text5 = \"u r e q a s d f g u u u u \"\n",
    "newText = text5.split()\n",
    "for char in newText:\n",
    "    if(searchChar == char):\n",
    "        idx = newText.index(char)\n",
    "        print(f'{searchChar} is on position {counter}')\n",
    "    counter = counter + 1   "
   ]
  },
  {
   "cell_type": "code",
   "execution_count": null,
   "id": "80d6af40",
   "metadata": {},
   "outputs": [],
   "source": []
  }
 ],
 "metadata": {
  "kernelspec": {
   "display_name": "onecampusenv",
   "language": "python",
   "name": "onecampusenv"
  },
  "language_info": {
   "codemirror_mode": {
    "name": "ipython",
    "version": 3
   },
   "file_extension": ".py",
   "mimetype": "text/x-python",
   "name": "python",
   "nbconvert_exporter": "python",
   "pygments_lexer": "ipython3",
   "version": "3.8.10"
  }
 },
 "nbformat": 4,
 "nbformat_minor": 5
}
