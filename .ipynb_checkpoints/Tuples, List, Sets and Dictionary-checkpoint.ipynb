{
 "cells": [
  {
   "cell_type": "code",
   "execution_count": 1,
   "id": "a6592ef4",
   "metadata": {},
   "outputs": [
    {
     "data": {
      "text/plain": [
       "34"
      ]
     },
     "execution_count": 1,
     "metadata": {},
     "output_type": "execute_result"
    }
   ],
   "source": [
    "# Normal variable stores one variable\n",
    "# Tuples is a type of variable that holds multiple items separated by commas in a bracket\n",
    "studentAges = (23,34,87,12,11)\n",
    "studentAges[1]"
   ]
  },
  {
   "cell_type": "code",
   "execution_count": 3,
   "id": "f84f2c10",
   "metadata": {},
   "outputs": [
    {
     "data": {
      "text/plain": [
       "1"
      ]
     },
     "execution_count": 3,
     "metadata": {},
     "output_type": "execute_result"
    }
   ],
   "source": [
    "studentAges.count(23)\n",
    "# this returns the number of times an item appears in a tuple"
   ]
  },
  {
   "cell_type": "code",
   "execution_count": 4,
   "id": "ebe87a1d",
   "metadata": {},
   "outputs": [
    {
     "data": {
      "text/plain": [
       "1"
      ]
     },
     "execution_count": 4,
     "metadata": {},
     "output_type": "execute_result"
    }
   ],
   "source": [
    "# index searches for the occurrence of an item and retursn the first position it appears\n",
    "numbers = (1,2,1,4,5,2,4,6)\n",
    "numbers.index(2)"
   ]
  },
  {
   "cell_type": "code",
   "execution_count": 5,
   "id": "55c3ec7b",
   "metadata": {},
   "outputs": [
    {
     "ename": "AttributeError",
     "evalue": "'tuple' object has no attribute 'append'",
     "output_type": "error",
     "traceback": [
      "\u001b[1;31m---------------------------------------------------------------------------\u001b[0m",
      "\u001b[1;31mAttributeError\u001b[0m                            Traceback (most recent call last)",
      "Cell \u001b[1;32mIn[5], line 2\u001b[0m\n\u001b[0;32m      1\u001b[0m \u001b[38;5;66;03m# Tuples are immutable. after creation, Tuples can accept or remove items\u001b[39;00m\n\u001b[1;32m----> 2\u001b[0m \u001b[43mnumbers\u001b[49m\u001b[38;5;241;43m.\u001b[39;49m\u001b[43mappend\u001b[49m(\u001b[38;5;241m10\u001b[39m)\n",
      "\u001b[1;31mAttributeError\u001b[0m: 'tuple' object has no attribute 'append'"
     ]
    }
   ],
   "source": [
    "# Tuples are immutable. after creation, Tuples can accept or remove items. Tuples behave like constants.\n",
    "# it can be used to aviod any accidental modification, it is fast because there are fixed and immutable unlike list\n",
    "# List creates larger arrays in memory incase of modifications. this leads to memory leak.\n",
    "numbers.append(10)"
   ]
  },
  {
   "cell_type": "code",
   "execution_count": 6,
   "id": "f12d869b",
   "metadata": {},
   "outputs": [
    {
     "name": "stdout",
     "output_type": "stream",
     "text": [
      "Blessing 23\n",
      "Isreal 31\n",
      "John 15\n",
      "Eze 22\n"
     ]
    }
   ],
   "source": [
    "# combining two tuples using zip\n",
    "studentsNames = (\"Blessing\", \"Isreal\", \"John\", \"Eze\")\n",
    "studentAges = (23, 31, 15, 22)\n",
    "\n",
    "for student,age in zip(studentsNames, studentAges):\n",
    "    print(student,age)"
   ]
  },
  {
   "cell_type": "code",
   "execution_count": 8,
   "id": "d1361753",
   "metadata": {},
   "outputs": [],
   "source": [
    "# LIST: List is a mutable, ordered and allows duplicate.\n",
    "studeName = [\"Blessing\", \"Isreal\", \"John\", \"Eze\"]\n",
    "studAges = [23, 31, 15, 22]\n",
    "# append: o(1)\n",
    "studeName.append(\"Ify\")"
   ]
  },
  {
   "cell_type": "code",
   "execution_count": 9,
   "id": "fd366062",
   "metadata": {},
   "outputs": [
    {
     "data": {
      "text/plain": [
       "['Blessing', 'Isreal', 'John', 'Eze', 'Ify']"
      ]
     },
     "execution_count": 9,
     "metadata": {},
     "output_type": "execute_result"
    }
   ],
   "source": [
    "studeName"
   ]
  },
  {
   "cell_type": "code",
   "execution_count": 2,
   "id": "a7b5aa2a",
   "metadata": {},
   "outputs": [
    {
     "data": {
      "text/plain": [
       "['Blessing', 'Raphael', 'Isreal', 'John', 'Eze']"
      ]
     },
     "execution_count": 2,
     "metadata": {},
     "output_type": "execute_result"
    }
   ],
   "source": [
    "# Inserts an item at a given position O(n)\n",
    "# variableName.insert(index, value)\n",
    "studeName = [\"Blessing\", \"Isreal\", \"John\", \"Eze\"]\n",
    "studeName.insert(1, \"Raphael\")\n",
    "studeName"
   ]
  },
  {
   "cell_type": "code",
   "execution_count": 4,
   "id": "908ad5a1",
   "metadata": {},
   "outputs": [
    {
     "data": {
      "text/plain": [
       "[23, 31, 15, 22, 100, 200, 300]"
      ]
     },
     "execution_count": 4,
     "metadata": {},
     "output_type": "execute_result"
    }
   ],
   "source": [
    "# Extends: Extends the list by appending all the items from the iterable. This adds more than one ittem from another list\n",
    "newNums = [100,200,300]\n",
    "studAges = [23, 31, 15, 22]\n",
    "studAges.extend(newNums)\n",
    "studAges"
   ]
  },
  {
   "cell_type": "code",
   "execution_count": 5,
   "id": "5527d8df",
   "metadata": {},
   "outputs": [
    {
     "data": {
      "text/plain": [
       "['Blessing', 'Raphael', 'John', 'Eze']"
      ]
     },
     "execution_count": 5,
     "metadata": {},
     "output_type": "execute_result"
    }
   ],
   "source": [
    "# Remove: Removes the first item from the list which matches the specified value.\n",
    "studeName.remove(\"Isreal\")\n",
    "studeName"
   ]
  },
  {
   "cell_type": "code",
   "execution_count": 6,
   "id": "14f04cb6",
   "metadata": {},
   "outputs": [
    {
     "data": {
      "text/plain": [
       "['Blessing', 'Raphael', 'John']"
      ]
     },
     "execution_count": 6,
     "metadata": {},
     "output_type": "execute_result"
    }
   ],
   "source": [
    "# POP: Removes and returns the item at the specified index especially the last index if empty.\n",
    "studeName.pop()\n",
    "studeName"
   ]
  },
  {
   "cell_type": "code",
   "execution_count": 7,
   "id": "f10d7167",
   "metadata": {},
   "outputs": [
    {
     "data": {
      "text/plain": [
       "['Raphael', 'John']"
      ]
     },
     "execution_count": 7,
     "metadata": {},
     "output_type": "execute_result"
    }
   ],
   "source": [
    "studeName.pop(0)\n",
    "studeName"
   ]
  },
  {
   "cell_type": "code",
   "execution_count": 11,
   "id": "bd3d0dcd",
   "metadata": {},
   "outputs": [
    {
     "data": {
      "text/plain": [
       "6"
      ]
     },
     "execution_count": 11,
     "metadata": {},
     "output_type": "execute_result"
    }
   ],
   "source": [
    "# Index: Returns the index of the first occurrence of the specified list item O(1).\n",
    "studAges.index(300)\n"
   ]
  },
  {
   "cell_type": "code",
   "execution_count": 12,
   "id": "3b96d2d5",
   "metadata": {},
   "outputs": [
    {
     "data": {
      "text/plain": [
       "1"
      ]
     },
     "execution_count": 12,
     "metadata": {},
     "output_type": "execute_result"
    }
   ],
   "source": [
    "# Count: Returns the number of times the specified item appears in the list.\n",
    "studAges.count(23)"
   ]
  },
  {
   "cell_type": "code",
   "execution_count": 4,
   "id": "b381e67d",
   "metadata": {},
   "outputs": [
    {
     "data": {
      "text/plain": [
       "[15, 22, 23, 31, 100, 200, 300]"
      ]
     },
     "execution_count": 4,
     "metadata": {},
     "output_type": "execute_result"
    }
   ],
   "source": [
    "# sort: Sorts the list in place 0(nlog n).\n",
    "studAges= [23, 31, 15, 22, 100, 200, 300]\n",
    "studAges.sort()\n",
    "studAges"
   ]
  },
  {
   "cell_type": "code",
   "execution_count": 8,
   "id": "9f0aa54d",
   "metadata": {},
   "outputs": [
    {
     "data": {
      "text/plain": [
       "[300, 200, 100, 31, 23, 22, 15]"
      ]
     },
     "execution_count": 8,
     "metadata": {},
     "output_type": "execute_result"
    }
   ],
   "source": [
    "#  Reverse: Reverses the elements of the list, in place. 0(n)\n",
    "# studAges = [15, 22, 23, 31, 100, 200, 300]\n",
    "studAges.reverse()\n",
    "studAges"
   ]
  },
  {
   "cell_type": "code",
   "execution_count": 10,
   "id": "028b7506",
   "metadata": {},
   "outputs": [
    {
     "data": {
      "text/plain": [
       "15"
      ]
     },
     "execution_count": 10,
     "metadata": {},
     "output_type": "execute_result"
    }
   ],
   "source": [
    "# min: This is a function that Returns the smallest item from a collectio\n",
    "min(studAges)"
   ]
  },
  {
   "cell_type": "code",
   "execution_count": 11,
   "id": "69e826f2",
   "metadata": {},
   "outputs": [
    {
     "data": {
      "text/plain": [
       "[1, 2]"
      ]
     },
     "execution_count": 11,
     "metadata": {},
     "output_type": "execute_result"
    }
   ],
   "source": [
    "min([1, 2], [2, 1], [3, 1])"
   ]
  },
  {
   "cell_type": "code",
   "execution_count": 12,
   "id": "391b41aa",
   "metadata": {},
   "outputs": [
    {
     "data": {
      "text/plain": [
       "6"
      ]
     },
     "execution_count": 12,
     "metadata": {},
     "output_type": "execute_result"
    }
   ],
   "source": [
    "# Len: Returns an int type specifying number of elements in the collection.\n",
    "# it counts elements once if its a set.\n",
    "len({1,4,6,2,1,4,8,5})"
   ]
  },
  {
   "cell_type": "code",
   "execution_count": 13,
   "id": "ae2afc12",
   "metadata": {},
   "outputs": [
    {
     "data": {
      "text/plain": [
       "8"
      ]
     },
     "execution_count": 13,
     "metadata": {},
     "output_type": "execute_result"
    }
   ],
   "source": [
    "len([1,4,6,2,1,4,8,5])"
   ]
  },
  {
   "cell_type": "code",
   "execution_count": 14,
   "id": "52c3a7d2",
   "metadata": {},
   "outputs": [
    {
     "data": {
      "text/plain": [
       "691"
      ]
     },
     "execution_count": 14,
     "metadata": {},
     "output_type": "execute_result"
    }
   ],
   "source": [
    "# sum: Returns a total of the items contained in the iterable object.\n",
    "sum(studAges)"
   ]
  },
  {
   "cell_type": "code",
   "execution_count": null,
   "id": "cf01557e",
   "metadata": {},
   "outputs": [],
   "source": [
    "# ============================================================\n"
   ]
  },
  {
   "cell_type": "code",
   "execution_count": 15,
   "id": "cfb2e3fd",
   "metadata": {},
   "outputs": [
    {
     "data": {
      "text/plain": [
       "set"
      ]
     },
     "execution_count": 15,
     "metadata": {},
     "output_type": "execute_result"
    }
   ],
   "source": [
    "# set: contains unordered items, does not allow duplicates of an item and Sets are used to store multiple items in a single variable.\n",
    "# A set is a collection which is unordered, unchangeable*, and unindexed.\n",
    "\n",
    "# Creating a set\n",
    "mySet = set()\n",
    "type(mySet)\n"
   ]
  },
  {
   "cell_type": "code",
   "execution_count": 17,
   "id": "7e55c69b",
   "metadata": {},
   "outputs": [
    {
     "data": {
      "text/plain": [
       "['Blessing', 'Raphael', 'John', 'Eze', 'Blessing', 'Raphael', 'Ojo', 'Ify']"
      ]
     },
     "execution_count": 17,
     "metadata": {},
     "output_type": "execute_result"
    }
   ],
   "source": [
    "list1 = ['Blessing', 'Raphael', 'John', 'Eze']\n",
    "list2 = ['Blessing', 'Raphael', 'Ojo', 'Ify']\n",
    "list1.extend(list2)\n",
    "list1"
   ]
  },
  {
   "cell_type": "code",
   "execution_count": 19,
   "id": "2a831226",
   "metadata": {},
   "outputs": [
    {
     "data": {
      "text/plain": [
       "{'Blessing', 'Eze', 'Ify', 'John', 'Ojo', 'Raphael'}"
      ]
     },
     "execution_count": 19,
     "metadata": {},
     "output_type": "execute_result"
    }
   ],
   "source": [
    "newSet = set(list1)\n",
    "newSet"
   ]
  },
  {
   "cell_type": "code",
   "execution_count": 21,
   "id": "d4ed1c0e",
   "metadata": {},
   "outputs": [
    {
     "data": {
      "text/plain": [
       "{'Blessing', 'Eze', 'Ify', 'John', 'Not a string', 'Ojo', 'Raphael'}"
      ]
     },
     "execution_count": 21,
     "metadata": {},
     "output_type": "execute_result"
    }
   ],
   "source": [
    "# Common uses include membership testing, removing duplicates from a sequence, and computing standard math operations on sets such as intersection, union, difference, and symmetric difference.\n",
    "# Set methods\n",
    "# ADD: Adds an element to the set. It takes just one argument and non-related object types.\n",
    "newSet.add(\"Not a string\")\n",
    "newSet"
   ]
  },
  {
   "cell_type": "code",
   "execution_count": 22,
   "id": "b2a183d3",
   "metadata": {},
   "outputs": [
    {
     "data": {
      "text/plain": [
       "{3, 'Blessing', 'Eze', 'Ify', 'John', 'Not a string', 'Ojo', 'Raphael'}"
      ]
     },
     "execution_count": 22,
     "metadata": {},
     "output_type": "execute_result"
    }
   ],
   "source": [
    "newSet.add(3)\n",
    "newSet"
   ]
  },
  {
   "cell_type": "code",
   "execution_count": 26,
   "id": "7002d4b1",
   "metadata": {},
   "outputs": [
    {
     "data": {
      "text/plain": [
       "{' ',\n",
       " 3,\n",
       " 'Blessing',\n",
       " 'Eze',\n",
       " 'Ify',\n",
       " 'John',\n",
       " 'Not a string',\n",
       " 'Ojo',\n",
       " 'Raphael',\n",
       " 'a',\n",
       " 'd',\n",
       " 'e',\n",
       " 'f',\n",
       " 'g',\n",
       " 'h',\n",
       " 'i',\n",
       " 'l',\n",
       " 'm',\n",
       " 'n',\n",
       " 'newly added',\n",
       " 'o',\n",
       " 'p',\n",
       " 'r',\n",
       " 't',\n",
       " 'u',\n",
       " 'w',\n",
       " 'y',\n",
       " 'zebra'}"
      ]
     },
     "execution_count": 26,
     "metadata": {},
     "output_type": "execute_result"
    }
   ],
   "source": [
    "# UPDATE: Adds elements to the set.\n",
    "newSet.update({\"zebra\"})\n",
    "newSet"
   ]
  },
  {
   "cell_type": "code",
   "execution_count": 29,
   "id": "2f51af61",
   "metadata": {},
   "outputs": [
    {
     "data": {
      "text/plain": [
       "{10, 15, 22, 23, 31, 90, 100, 190, 200, 299, 300}"
      ]
     },
     "execution_count": 29,
     "metadata": {},
     "output_type": "execute_result"
    }
   ],
   "source": [
    "newAges = set(studAges)\n",
    "newAges.update({90,10},[299, 190])\n",
    "# set accepts iterable objects in the update methods\n",
    "newAges"
   ]
  },
  {
   "cell_type": "code",
   "execution_count": 32,
   "id": "ac2cea85",
   "metadata": {},
   "outputs": [
    {
     "data": {
      "text/plain": [
       "{10, 15, 22, 23, 31, 90, 100, 190, 200, 300}"
      ]
     },
     "execution_count": 32,
     "metadata": {},
     "output_type": "execute_result"
    }
   ],
   "source": [
    "# DISCARD: Removes an element from the set. \n",
    "newAges.discard(299)\n",
    "newAges"
   ]
  },
  {
   "cell_type": "code",
   "execution_count": 33,
   "id": "b064aefd",
   "metadata": {},
   "outputs": [
    {
     "data": {
      "text/plain": [
       "{10, 15, 22, 23, 31, 90, 100, 190, 200, 300}"
      ]
     },
     "execution_count": 33,
     "metadata": {},
     "output_type": "execute_result"
    }
   ],
   "source": [
    "#  discard does not throw a key error if the element is not found\n",
    "newAges.discard(299)\n",
    "newAges"
   ]
  },
  {
   "cell_type": "code",
   "execution_count": 34,
   "id": "e45e462e",
   "metadata": {},
   "outputs": [
    {
     "ename": "KeyError",
     "evalue": "299",
     "output_type": "error",
     "traceback": [
      "\u001b[1;31m---------------------------------------------------------------------------\u001b[0m",
      "\u001b[1;31mKeyError\u001b[0m                                  Traceback (most recent call last)",
      "Cell \u001b[1;32mIn[34], line 2\u001b[0m\n\u001b[0;32m      1\u001b[0m \u001b[38;5;66;03m# remove: Removes an element from the set (raises KeyError if not found).\u001b[39;00m\n\u001b[1;32m----> 2\u001b[0m \u001b[43mnewAges\u001b[49m\u001b[38;5;241;43m.\u001b[39;49m\u001b[43mremove\u001b[49m\u001b[43m(\u001b[49m\u001b[38;5;241;43m299\u001b[39;49m\u001b[43m)\u001b[49m\n\u001b[0;32m      3\u001b[0m newAges\n",
      "\u001b[1;31mKeyError\u001b[0m: 299"
     ]
    }
   ],
   "source": [
    "# remove: Removes an element from the set (raises KeyError if not found).\n",
    "newAges.remove(299)\n",
    "newAges"
   ]
  },
  {
   "cell_type": "code",
   "execution_count": 35,
   "id": "fa058b39",
   "metadata": {},
   "outputs": [
    {
     "data": {
      "text/plain": [
       "{10, 15, 22, 23, 31, 90, 100, 200, 300}"
      ]
     },
     "execution_count": 35,
     "metadata": {},
     "output_type": "execute_result"
    }
   ],
   "source": [
    "newAges.remove(190)\n",
    "newAges"
   ]
  },
  {
   "cell_type": "code",
   "execution_count": 36,
   "id": "3cffa6db",
   "metadata": {},
   "outputs": [
    {
     "data": {
      "text/plain": [
       "{10, 15, 22, 23, 31, 90, 200, 300}"
      ]
     },
     "execution_count": 36,
     "metadata": {},
     "output_type": "execute_result"
    }
   ],
   "source": [
    "# POP: Removes and returns an arbitrary element from the set. It pops any item from the list\n",
    "newAges.pop()\n",
    "newAges"
   ]
  },
  {
   "cell_type": "code",
   "execution_count": 37,
   "id": "72b67962",
   "metadata": {},
   "outputs": [
    {
     "data": {
      "text/plain": [
       "{10, 15, 22, 23, 31, 90, 300}"
      ]
     },
     "execution_count": 37,
     "metadata": {},
     "output_type": "execute_result"
    }
   ],
   "source": [
    "newAges.pop()\n",
    "newAges"
   ]
  },
  {
   "cell_type": "code",
   "execution_count": 38,
   "id": "16f5042d",
   "metadata": {},
   "outputs": [
    {
     "data": {
      "text/plain": [
       "{15, 22, 23, 31, 90, 300}"
      ]
     },
     "execution_count": 38,
     "metadata": {},
     "output_type": "execute_result"
    }
   ],
   "source": [
    "newAges.pop()\n",
    "newAges\n",
    "# raises key error if set is empty"
   ]
  },
  {
   "cell_type": "code",
   "execution_count": 39,
   "id": "fd7987a8",
   "metadata": {},
   "outputs": [
    {
     "data": {
      "text/plain": [
       "set()"
      ]
     },
     "execution_count": 39,
     "metadata": {},
     "output_type": "execute_result"
    }
   ],
   "source": [
    "# clear: Removes all elements from the set.\n",
    "newAges.clear()\n",
    "newAges"
   ]
  },
  {
   "cell_type": "code",
   "execution_count": 43,
   "id": "25b50fc2",
   "metadata": {},
   "outputs": [
    {
     "data": {
      "text/plain": [
       "{1, 2}"
      ]
     },
     "execution_count": 43,
     "metadata": {},
     "output_type": "execute_result"
    }
   ],
   "source": [
    "# Difference: Returns a new set with elements in the set that are not in the specified iterables.\n",
    "numbers1 = {10, 15, 22, 23, 31, 90, 300,1,2}\n",
    "numbers2 = [10, 15, 22, 23, 31, 90, 300,400,500]\n",
    "numbers1.difference(numbers2)"
   ]
  },
  {
   "cell_type": "code",
   "execution_count": 41,
   "id": "5c958e78",
   "metadata": {},
   "outputs": [
    {
     "data": {
      "text/plain": [
       "{1}"
      ]
     },
     "execution_count": 41,
     "metadata": {},
     "output_type": "execute_result"
    }
   ],
   "source": [
    "{1, 2}.difference([2, 3])"
   ]
  },
  {
   "cell_type": "code",
   "execution_count": 45,
   "id": "75f5ba58",
   "metadata": {},
   "outputs": [
    {
     "data": {
      "text/plain": [
       "{1, 2, 3}"
      ]
     },
     "execution_count": 45,
     "metadata": {},
     "output_type": "execute_result"
    }
   ],
   "source": [
    "num3 = {1,2,3,4,5}\n",
    "num4 = {4,5,6}\n",
    "num3.difference(num4)\n",
    "# {1,2,3} are the dissimilar items in num3 but not in num4"
   ]
  },
  {
   "cell_type": "code",
   "execution_count": 46,
   "id": "5530b2ea",
   "metadata": {},
   "outputs": [
    {
     "data": {
      "text/plain": [
       "{6}"
      ]
     },
     "execution_count": 46,
     "metadata": {},
     "output_type": "execute_result"
    }
   ],
   "source": [
    "\n",
    "num4.difference(num3)"
   ]
  },
  {
   "cell_type": "code",
   "execution_count": 47,
   "id": "af8bece8",
   "metadata": {},
   "outputs": [
    {
     "data": {
      "text/plain": [
       "{1}"
      ]
     },
     "execution_count": 47,
     "metadata": {},
     "output_type": "execute_result"
    }
   ],
   "source": [
    "{1, 2}.difference({'a': 2, 'b': 3}.values())"
   ]
  },
  {
   "cell_type": "code",
   "execution_count": 48,
   "id": "d82a888f",
   "metadata": {},
   "outputs": [
    {
     "data": {
      "text/plain": [
       "{4, 5}"
      ]
     },
     "execution_count": 48,
     "metadata": {},
     "output_type": "execute_result"
    }
   ],
   "source": [
    "# Intersection: Returns a new set with elements common to the set and the specified iterables.\n",
    "num4.intersection(num3)"
   ]
  },
  {
   "cell_type": "code",
   "execution_count": 52,
   "id": "eca7a042",
   "metadata": {},
   "outputs": [
    {
     "data": {
      "text/plain": [
       "{1}"
      ]
     },
     "execution_count": 52,
     "metadata": {},
     "output_type": "execute_result"
    }
   ],
   "source": [
    "{1, 2, 3}.intersection([0, 1, 3], [1, 2, 0], [1, 5, 9], [3,4, 1])"
   ]
  },
  {
   "cell_type": "code",
   "execution_count": 53,
   "id": "119efc31",
   "metadata": {},
   "outputs": [
    {
     "data": {
      "text/plain": [
       "{1, 3}"
      ]
     },
     "execution_count": 53,
     "metadata": {},
     "output_type": "execute_result"
    }
   ],
   "source": [
    "# symmetric_difference: Returns a new set with elements in either the set or the specified iterable but not both.\n",
    "{1, 2}.symmetric_difference([2, 3])"
   ]
  },
  {
   "cell_type": "code",
   "execution_count": 54,
   "id": "729291ef",
   "metadata": {},
   "outputs": [
    {
     "data": {
      "text/plain": [
       "{1, 2, 3, 6}"
      ]
     },
     "execution_count": 54,
     "metadata": {},
     "output_type": "execute_result"
    }
   ],
   "source": [
    "num4.symmetric_difference(num3)"
   ]
  },
  {
   "cell_type": "code",
   "execution_count": 55,
   "id": "b213764a",
   "metadata": {},
   "outputs": [
    {
     "data": {
      "text/plain": [
       "{1, 2, 3, 6}"
      ]
     },
     "execution_count": 55,
     "metadata": {},
     "output_type": "execute_result"
    }
   ],
   "source": [
    "num3.symmetric_difference(num4)"
   ]
  },
  {
   "cell_type": "code",
   "execution_count": 56,
   "id": "0161de21",
   "metadata": {},
   "outputs": [
    {
     "data": {
      "text/plain": [
       "{1, 2, 3, 4, 5, 6, 7, 8}"
      ]
     },
     "execution_count": 56,
     "metadata": {},
     "output_type": "execute_result"
    }
   ],
   "source": [
    "#  Union: Returns a new set with elements from the set and the specified iterables.\n",
    "{1, 2}.union([3, 4], (5, 6), {7, 8})"
   ]
  },
  {
   "cell_type": "code",
   "execution_count": null,
   "id": "c2161b18",
   "metadata": {},
   "outputs": [],
   "source": [
    "# =======================================================\n",
    "# DICTIONARIES"
   ]
  },
  {
   "cell_type": "code",
   "execution_count": 57,
   "id": "d9e0dcaa",
   "metadata": {},
   "outputs": [
    {
     "data": {
      "text/plain": [
       "dict_keys(['James', 'Isreal', 'Emeka', 'Matthew'])"
      ]
     },
     "execution_count": 57,
     "metadata": {},
     "output_type": "execute_result"
    }
   ],
   "source": [
    "# dictinaries are mutable, they are dynamic(grow and shrink), can be nested(dictionaries in dictionaries). \n",
    "# Dictionaries uses unique key value pairs compared to list that uses index.\n",
    "studentDicts = {\n",
    "    \"James\": 90,\n",
    "    \"Isreal\": 100,\n",
    "    \"Emeka\": 20,\n",
    "    \"Matthew\": 30\n",
    "}\n",
    "studentDicts.keys()"
   ]
  },
  {
   "cell_type": "code",
   "execution_count": 59,
   "id": "f38df63e",
   "metadata": {},
   "outputs": [
    {
     "data": {
      "text/plain": [
       "dict_values([90, 100, 20, 30])"
      ]
     },
     "execution_count": 59,
     "metadata": {},
     "output_type": "execute_result"
    }
   ],
   "source": [
    "studentDicts.values()"
   ]
  },
  {
   "cell_type": "code",
   "execution_count": 61,
   "id": "ff2a2bfd",
   "metadata": {},
   "outputs": [
    {
     "data": {
      "text/plain": [
       "90"
      ]
     },
     "execution_count": 61,
     "metadata": {},
     "output_type": "execute_result"
    }
   ],
   "source": [
    "studentDicts['James']"
   ]
  },
  {
   "cell_type": "code",
   "execution_count": 62,
   "id": "c2ed30c6",
   "metadata": {},
   "outputs": [
    {
     "data": {
      "text/plain": [
       "{'Blessing': 20, 'Ojo': 70, 'Okoro': 50}"
      ]
     },
     "execution_count": 62,
     "metadata": {},
     "output_type": "execute_result"
    }
   ],
   "source": [
    "studentNames = [\"Blessing\", \"Ojo\", \"Okoro\"]\n",
    "studentScores = [20, 70, 50]\n",
    "studentDict = dict(zip(studentNames,studentScores))\n",
    "studentDict"
   ]
  },
  {
   "cell_type": "code",
   "execution_count": 63,
   "id": "12de9058",
   "metadata": {},
   "outputs": [
    {
     "name": "stdout",
     "output_type": "stream",
     "text": [
      "Biology {'Blessing': 80, 'James': 59, 'Lovelyn': 70}\n",
      "Physics {'Blessing': 90, 'James': 79, 'Lovelyn': 40}\n",
      "Chemistry {'Blessing': 40, 'James': 99, 'Lovelyn': 60}\n"
     ]
    }
   ],
   "source": [
    "studentRecord = {\n",
    "    \"Biology\": {\"Blessing\": 80, \"James\": 59, \"Lovelyn\": 70},\n",
    "    \"Physics\": {\"Blessing\": 90, \"James\": 79, \"Lovelyn\": 40},\n",
    "    \"Chemistry\": {\"Blessing\": 40, \"James\": 99, \"Lovelyn\": 60},\n",
    "}\n",
    "for subjects,scores in studentRecord.items():\n",
    "    print(subjects, scores)"
   ]
  },
  {
   "cell_type": "code",
   "execution_count": 66,
   "id": "46050a62",
   "metadata": {},
   "outputs": [
    {
     "name": "stdout",
     "output_type": "stream",
     "text": [
      "Biology {'Blessing': 80, 'James': 59, 'Lovelyn': 70}\n",
      "Blessing 80\n",
      "James 59\n",
      "Lovelyn 70\n",
      "Physics {'Blessing': 90, 'James': 79, 'Lovelyn': 40}\n",
      "Blessing 90\n",
      "James 79\n",
      "Lovelyn 40\n",
      "Chemistry {'Blessing': 40, 'James': 99, 'Lovelyn': 60}\n",
      "Blessing 40\n",
      "James 99\n",
      "Lovelyn 60\n"
     ]
    }
   ],
   "source": [
    "studentRec = []\n",
    "for subjects,scores in studentRecord.items():\n",
    "    print(subjects, scores)\n",
    "    for names,score in scores.items():\n",
    "        print(names, score)\n",
    "        studentRec.append([subjects, names, score])"
   ]
  },
  {
   "cell_type": "code",
   "execution_count": 67,
   "id": "1d762c37",
   "metadata": {},
   "outputs": [
    {
     "data": {
      "text/plain": [
       "[['Biology', 'Blessing', 80],\n",
       " ['Biology', 'James', 59],\n",
       " ['Biology', 'Lovelyn', 70],\n",
       " ['Physics', 'Blessing', 90],\n",
       " ['Physics', 'James', 79],\n",
       " ['Physics', 'Lovelyn', 40],\n",
       " ['Chemistry', 'Blessing', 40],\n",
       " ['Chemistry', 'James', 99],\n",
       " ['Chemistry', 'Lovelyn', 60]]"
      ]
     },
     "execution_count": 67,
     "metadata": {},
     "output_type": "execute_result"
    }
   ],
   "source": [
    "studentRec"
   ]
  },
  {
   "cell_type": "code",
   "execution_count": 2,
   "id": "2d3c09a1",
   "metadata": {},
   "outputs": [
    {
     "ename": "ModuleNotFoundError",
     "evalue": "No module named 'pandas'",
     "output_type": "error",
     "traceback": [
      "\u001b[1;31m---------------------------------------------------------------------------\u001b[0m",
      "\u001b[1;31mModuleNotFoundError\u001b[0m                       Traceback (most recent call last)",
      "Cell \u001b[1;32mIn[2], line 1\u001b[0m\n\u001b[1;32m----> 1\u001b[0m \u001b[38;5;28;01mimport\u001b[39;00m \u001b[38;5;21;01mpandas\u001b[39;00m \u001b[38;5;28;01mas\u001b[39;00m \u001b[38;5;21;01mpd\u001b[39;00m\n\u001b[0;32m      3\u001b[0m pd\u001b[38;5;241m.\u001b[39mDataframe(studentRec, columns\u001b[38;5;241m=\u001b[39m[subjects, names, score])\n",
      "\u001b[1;31mModuleNotFoundError\u001b[0m: No module named 'pandas'"
     ]
    }
   ],
   "source": [
    "import pandas as pd\n",
    "\n",
    "pd.Dataframe(studentRec, columns=[subjects, names, score])"
   ]
  },
  {
   "cell_type": "code",
   "execution_count": null,
   "id": "0858298f",
   "metadata": {},
   "outputs": [],
   "source": []
  }
 ],
 "metadata": {
  "kernelspec": {
   "display_name": "onecampusenv",
   "language": "python",
   "name": "onecampusenv"
  },
  "language_info": {
   "codemirror_mode": {
    "name": "ipython",
    "version": 3
   },
   "file_extension": ".py",
   "mimetype": "text/x-python",
   "name": "python",
   "nbconvert_exporter": "python",
   "pygments_lexer": "ipython3",
   "version": "3.10.10"
  }
 },
 "nbformat": 4,
 "nbformat_minor": 5
}
