{
 "cells": [
  {
   "cell_type": "code",
   "execution_count": 1,
   "id": "9f9a5614",
   "metadata": {},
   "outputs": [
    {
     "data": {
      "text/plain": [
       "'H'"
      ]
     },
     "execution_count": 1,
     "metadata": {},
     "output_type": "execute_result"
    }
   ],
   "source": [
    "string = 'Hello'\n",
    "string[0]"
   ]
  },
  {
   "cell_type": "code",
   "execution_count": 2,
   "id": "61ce7ecc",
   "metadata": {},
   "outputs": [
    {
     "data": {
      "text/plain": [
       "5"
      ]
     },
     "execution_count": 2,
     "metadata": {},
     "output_type": "execute_result"
    }
   ],
   "source": [
    "len(string)"
   ]
  },
  {
   "cell_type": "code",
   "execution_count": 4,
   "id": "2ed3b54b",
   "metadata": {},
   "outputs": [
    {
     "data": {
      "text/plain": [
       "'o'"
      ]
     },
     "execution_count": 4,
     "metadata": {},
     "output_type": "execute_result"
    }
   ],
   "source": [
    "string[len(string) - 1]"
   ]
  },
  {
   "cell_type": "code",
   "execution_count": 5,
   "id": "8fd6fdff",
   "metadata": {},
   "outputs": [
    {
     "data": {
      "text/plain": [
       "'Hello'"
      ]
     },
     "execution_count": 5,
     "metadata": {},
     "output_type": "execute_result"
    }
   ],
   "source": [
    "string[0:]"
   ]
  },
  {
   "cell_type": "code",
   "execution_count": 8,
   "id": "47c31680",
   "metadata": {},
   "outputs": [
    {
     "data": {
      "text/plain": [
       "9"
      ]
     },
     "execution_count": 8,
     "metadata": {},
     "output_type": "execute_result"
    }
   ],
   "source": [
    "# LIST\n",
    "# METHODS IN LIST : Append(i) | Extend | Insert | Remove | Pop | Count | Sort | Reverse | Index | Clear | Copy(CARIPRICCES)\n",
    "\n",
    "nested_list = [1,2,3,4,[5,6,7, [8,9],[10]]]\n",
    "nested_list[4][3][1]"
   ]
  },
  {
   "cell_type": "code",
   "execution_count": 10,
   "id": "cde1ea72",
   "metadata": {},
   "outputs": [
    {
     "data": {
      "text/plain": [
       "3"
      ]
     },
     "execution_count": 10,
     "metadata": {},
     "output_type": "execute_result"
    }
   ],
   "source": [
    "# DICTIONARIES\n",
    "# dictionaries can be nested in another dictionary\n",
    "dic = {\"key1\" : {\"inner_key\" : [1,2,3,4]}}\n",
    "dic['key1']['inner_key'][2]"
   ]
  },
  {
   "cell_type": "code",
   "execution_count": 13,
   "id": "6eb38120",
   "metadata": {},
   "outputs": [
    {
     "data": {
      "text/plain": [
       "True"
      ]
     },
     "execution_count": 13,
     "metadata": {},
     "output_type": "execute_result"
    }
   ],
   "source": [
    "dictionaries values can only be accessed with keys and the values can be any object\n",
    "dic1 = {'k1':1, 'k2':2, 'k3': [1,2,3], 'k4':(4,5,6), 'k5':\"James\", \"k6\":20, 'k7': {'k8': [7,8,9]}, 'k9' : True}\n",
    "dic1['k9']"
   ]
  },
  {
   "cell_type": "code",
   "execution_count": 15,
   "id": "ac1d18c4",
   "metadata": {},
   "outputs": [
    {
     "data": {
      "text/plain": [
       "[1, 2, 3]"
      ]
     },
     "execution_count": 15,
     "metadata": {},
     "output_type": "execute_result"
    }
   ],
   "source": [
    "dic1['k3']\n"
   ]
  },
  {
   "cell_type": "code",
   "execution_count": 16,
   "id": "0286b2d2",
   "metadata": {},
   "outputs": [
    {
     "data": {
      "text/plain": [
       "5"
      ]
     },
     "execution_count": 16,
     "metadata": {},
     "output_type": "execute_result"
    }
   ],
   "source": [
    "dic1['k4'][1]"
   ]
  },
  {
   "cell_type": "code",
   "execution_count": 17,
   "id": "3b06337f",
   "metadata": {},
   "outputs": [
    {
     "data": {
      "text/plain": [
       "'m'"
      ]
     },
     "execution_count": 17,
     "metadata": {},
     "output_type": "execute_result"
    }
   ],
   "source": [
    "dic1['k5'][2]"
   ]
  },
  {
   "cell_type": "code",
   "execution_count": 20,
   "id": "138acb76",
   "metadata": {},
   "outputs": [
    {
     "data": {
      "text/plain": [
       "8"
      ]
     },
     "execution_count": 20,
     "metadata": {},
     "output_type": "execute_result"
    }
   ],
   "source": [
    "dic1['k7']['k8'][1]"
   ]
  },
  {
   "cell_type": "code",
   "execution_count": 23,
   "id": "51085caa",
   "metadata": {},
   "outputs": [
    {
     "name": "stdout",
     "output_type": "stream",
     "text": [
      "\n"
     ]
    }
   ],
   "source": [
    "# Dictionary methods : Clear, Copy, fromkeys, get, items, keys, pop, popItems, setdefault, update\n",
    "# clear(): Removes all items from the dictionary.\n",
    "my_dict = {'a': 1, 'b': 2, 'c': 3}\n",
    "my_dict.clear()\n",
    "print()"
   ]
  },
  {
   "cell_type": "code",
   "execution_count": 24,
   "id": "1350e6cb",
   "metadata": {},
   "outputs": [
    {
     "name": "stdout",
     "output_type": "stream",
     "text": [
      "{'a': 1, 'b': 2, 'c': 3}\n"
     ]
    }
   ],
   "source": [
    "# copy\n",
    "my_dict = {'a': 1, 'b': 2, 'c': 3}\n",
    "new_dict = my_dict.copy()\n",
    "print(new_dict)"
   ]
  },
  {
   "cell_type": "code",
   "execution_count": 29,
   "id": "37ead927",
   "metadata": {},
   "outputs": [
    {
     "name": "stdout",
     "output_type": "stream",
     "text": [
      "{'a': 12, 'b': 12, 'c': 12}\n"
     ]
    }
   ],
   "source": [
    "# fromkeys(seq, value): Returns a new dictionary with keys from seq and values set to value.\n",
    "my_dict = [\"a\", \"b\", \"c\"]\n",
    "new_seq = dict.fromkeys(my_dict, 12)\n",
    "print(new_seq)"
   ]
  },
  {
   "cell_type": "code",
   "execution_count": 32,
   "id": "a96df0f5",
   "metadata": {},
   "outputs": [
    {
     "name": "stdout",
     "output_type": "stream",
     "text": [
      "None\n"
     ]
    }
   ],
   "source": [
    "# get(key, default): Returns the value for a key if it exists in the dictionary. \n",
    "# If it doesn't exist, it returns the default value (which defaults to None).\n",
    "my_dict = {'a': 1, 'b': 2, 'c': 3}\n",
    "new_seq = my_dict.get('t')\n",
    "print(new_seq)"
   ]
  },
  {
   "cell_type": "code",
   "execution_count": 34,
   "id": "8cb5a98c",
   "metadata": {},
   "outputs": [
    {
     "name": "stdout",
     "output_type": "stream",
     "text": [
      "dict_items([('a', 1), ('b', 2), ('c', 3)])\n"
     ]
    }
   ],
   "source": [
    "# items(): Returns a list of key-value pairs as tuples.\n",
    "my_dict = {'a': 1, 'b': 2, 'c': 3}\n",
    "new_seq = my_dict.items()\n",
    "print(new_seq)"
   ]
  },
  {
   "cell_type": "code",
   "execution_count": 35,
   "id": "14ddd571",
   "metadata": {},
   "outputs": [
    {
     "name": "stdout",
     "output_type": "stream",
     "text": [
      "2\n",
      "{'a': 1, 'c': 3}\n"
     ]
    }
   ],
   "source": [
    "# pop(key, default): Removes and returns the value for a key if it exists in the dictionary. \n",
    "# If it doesn't exist, it returns the default value (which defaults to a KeyError).\n",
    "my_dict = {'a': 1, 'b': 2, 'c': 3}\n",
    "new_seq = my_dict.pop('b')\n",
    "print(new_seq)\n",
    "print(my_dict)"
   ]
  },
  {
   "cell_type": "code",
   "execution_count": 40,
   "id": "1259ff96",
   "metadata": {},
   "outputs": [
    {
     "name": "stdout",
     "output_type": "stream",
     "text": [
      "('c', 3)\n",
      "{'a': 1, 'b': 2}\n"
     ]
    }
   ],
   "source": [
    "# popitem(): Removes and returns a key-value pair as a tuple. If the dictionary is empty, it raises a KeyError.\n",
    "my_dict = {'a': 1, 'b': 2, 'c': 3}\n",
    "new_seq = my_dict.popitem()\n",
    "print(new_seq)\n",
    "print(my_dict)"
   ]
  },
  {
   "cell_type": "code",
   "execution_count": 41,
   "id": "3d2bfd80",
   "metadata": {},
   "outputs": [
    {
     "name": "stdout",
     "output_type": "stream",
     "text": [
      "{'a': 1, 'b': 2, 'c': 3, 'd': 5}\n"
     ]
    }
   ],
   "source": [
    "# setdefault(key, default): Returns the value for a key if it exists in the dictionary. \n",
    "# If it doesn't exist, it sets the value to the default value (which defaults to None) and returns the default value.\n",
    "my_dict = {'a': 1, 'b': 2, 'c': 3}\n",
    "my_dict.setdefault('a', 10)\n",
    "my_dict.setdefault('d', 5)\n",
    "print(my_dict)"
   ]
  },
  {
   "cell_type": "code",
   "execution_count": 44,
   "id": "b6e3e218",
   "metadata": {},
   "outputs": [
    {
     "name": "stdout",
     "output_type": "stream",
     "text": [
      "{'a': 4, 'b': 2, 'c': 3, 'e': 5, 'd': 6}\n"
     ]
    }
   ],
   "source": [
    "# update(dict2): Adds the key-value pairs from dict2 to the dictionary. If a key already exists, its value is updated.\n",
    "dict1 = {'a': 1, 'b': 2, 'c': 3}\n",
    "dict2 = {'a': 4, 'e': 5, 'd':6}\n",
    "\n",
    "dict1.update(dict2)\n",
    "\n",
    "print(dict1)"
   ]
  },
  {
   "cell_type": "code",
   "execution_count": 46,
   "id": "0c93707d",
   "metadata": {},
   "outputs": [
    {
     "name": "stdout",
     "output_type": "stream",
     "text": [
      "2\n"
     ]
    }
   ],
   "source": [
    "# Tuples: Tuples objects cannot be mutated.\n",
    "# Tuples Methods: count, index, len, sorted, max, min\n",
    "\n",
    "# count() - returns the number of occurrences of a specified value in a tuple.\n",
    "my_tuple = (1,2,3,4,5,5,6,6,1)\n",
    "print(my_tuple.count(1))"
   ]
  },
  {
   "cell_type": "code",
   "execution_count": 47,
   "id": "f834abcd",
   "metadata": {},
   "outputs": [
    {
     "name": "stdout",
     "output_type": "stream",
     "text": [
      "0\n"
     ]
    }
   ],
   "source": [
    "# index() - returns the index of the first occurrence of a specified value in a tuple.\n",
    "my_tuple = (1,2,3,4,5,5,6,6,1)\n",
    "print(my_tuple.index(1))"
   ]
  },
  {
   "cell_type": "code",
   "execution_count": 48,
   "id": "e735e3f9",
   "metadata": {},
   "outputs": [
    {
     "name": "stdout",
     "output_type": "stream",
     "text": [
      "9\n"
     ]
    }
   ],
   "source": [
    "# len() - returns the number of items in a tuple.\n",
    "my_tuple = (1,2,3,4,5,5,6,6,1)\n",
    "print(len(my_tuple))"
   ]
  },
  {
   "cell_type": "code",
   "execution_count": 49,
   "id": "c0d6d286",
   "metadata": {},
   "outputs": [
    {
     "name": "stdout",
     "output_type": "stream",
     "text": [
      "[1, 1, 2, 3, 4, 5, 5, 6, 6]\n"
     ]
    }
   ],
   "source": [
    "# sorted() - returns a sorted list of the elements in a tuple.\n",
    "my_tuple = (1,2,3,4,5,5,6,6,1)\n",
    "print(sorted(my_tuple))"
   ]
  },
  {
   "cell_type": "code",
   "execution_count": 50,
   "id": "4c037cbf",
   "metadata": {},
   "outputs": [
    {
     "name": "stdout",
     "output_type": "stream",
     "text": [
      "{1, 2, 3, 4, 5}\n"
     ]
    }
   ],
   "source": [
    "# Set: This returns a set of unique elements \n",
    "my_set = {1,1,1,2,2,3,4,4,5}\n",
    "print(my_set)"
   ]
  },
  {
   "cell_type": "code",
   "execution_count": 51,
   "id": "1f8d23ad",
   "metadata": {},
   "outputs": [
    {
     "name": "stdout",
     "output_type": "stream",
     "text": [
      "{1, 2, 3, 4, 5}\n"
     ]
    }
   ],
   "source": [
    "# Set methods : clear, add, copy, difference, discard,intersection, isdisjoint, issubset, pop, issuperset, remove, symmetric_difference,\n",
    "# union\n",
    "\n",
    "# add: adds an element to the set\n",
    "my_sets = {1,2,3,4}\n",
    "my_sets.add(5)\n",
    "print(my_sets)"
   ]
  },
  {
   "cell_type": "code",
   "execution_count": 52,
   "id": "c6a701f3",
   "metadata": {},
   "outputs": [
    {
     "name": "stdout",
     "output_type": "stream",
     "text": [
      "set()\n"
     ]
    }
   ],
   "source": [
    "# clear: removes all elements from the set\n",
    "my_sets = {1,2,3,4}\n",
    "my_sets.clear()\n",
    "print(my_sets)"
   ]
  },
  {
   "cell_type": "code",
   "execution_count": 53,
   "id": "67c74efe",
   "metadata": {},
   "outputs": [
    {
     "name": "stdout",
     "output_type": "stream",
     "text": [
      "{1, 2, 3, 4}\n"
     ]
    }
   ],
   "source": [
    "# copy: returns a shallow copy of the set\n",
    "my_sets = {1,2,3,4}\n",
    "newSet = my_sets.copy()\n",
    "print(newSet)\n"
   ]
  },
  {
   "cell_type": "code",
   "execution_count": 56,
   "id": "e59761a4",
   "metadata": {},
   "outputs": [
    {
     "name": "stdout",
     "output_type": "stream",
     "text": [
      "{4, 5}\n",
      "{9, 10}\n"
     ]
    }
   ],
   "source": [
    "# difference: returns the difference between two sets as a new set\n",
    "s1 = {1,2,3,4,5,6,7,8}\n",
    "s2 = {1,2,3,6,7,8,9,10}\n",
    "# these items are in s1 only\n",
    "print(s1.difference(s2))\n",
    "# these items are in s2 only\n",
    "print(s2.difference(s1))"
   ]
  },
  {
   "cell_type": "code",
   "execution_count": 58,
   "id": "7ccdca0c",
   "metadata": {},
   "outputs": [
    {
     "name": "stdout",
     "output_type": "stream",
     "text": [
      "{21, 77}\n",
      "{23, 7}\n"
     ]
    }
   ],
   "source": [
    "s1 = {12, 19, 77, 21, 45, 2, 11}\n",
    "s2 = {19, 45, 7, 2, 23, 12, 11}\n",
    "# these items are in s1 only\n",
    "print(s1.difference(s2))\n",
    "# these items are in s2 only\n",
    "print(s2.difference(s1))"
   ]
  },
  {
   "cell_type": "code",
   "execution_count": 60,
   "id": "5773f6a2",
   "metadata": {},
   "outputs": [
    {
     "name": "stdout",
     "output_type": "stream",
     "text": [
      "{1, 3, 4, 5, 6}\n"
     ]
    }
   ],
   "source": [
    "# discard: removes an element from the set if it is present\n",
    "my_set = {1,2,3,4,5,6}\n",
    "my_set.discard(2)\n",
    "print(my_set)"
   ]
  },
  {
   "cell_type": "code",
   "execution_count": 61,
   "id": "b00fde29",
   "metadata": {},
   "outputs": [
    {
     "name": "stdout",
     "output_type": "stream",
     "text": [
      "{2, 11, 12, 45, 19}\n"
     ]
    }
   ],
   "source": [
    "# intersection: returns the intersection of two or more sets as a new set\n",
    "s1 = {12, 19, 77, 21, 45, 2, 11}\n",
    "s2 = {19, 45, 7, 2, 23, 12, 11}\n",
    "print(s1.intersection(s2))"
   ]
  },
  {
   "cell_type": "code",
   "execution_count": 63,
   "id": "3f0b5868",
   "metadata": {},
   "outputs": [
    {
     "name": "stdout",
     "output_type": "stream",
     "text": [
      "False\n",
      "True\n"
     ]
    }
   ],
   "source": [
    "# isdisjoint: returns True if two sets have no intersection\n",
    "s1 = {12, 19, 77, 21, 45, 2, 11}\n",
    "s2 = {19, 45, 7, 2, 23, 12, 11}\n",
    "s3 = {120, 345, 678, 984}\n",
    "print(s1.isdisjoint(s2))\n",
    "print(s1.isdisjoint(s3))"
   ]
  },
  {
   "cell_type": "code",
   "execution_count": 68,
   "id": "ef689482",
   "metadata": {},
   "outputs": [
    {
     "name": "stdout",
     "output_type": "stream",
     "text": [
      "True\n"
     ]
    }
   ],
   "source": [
    "# issubset: returns True if another set contains this set\n",
    "s1 = {12, 19, 77}\n",
    "s2 = {12, 77, 19, 2, 23, 12, 11}\n",
    "# Is all of s1 in s2(downwards)\n",
    "print(s1.issubset(s2))"
   ]
  },
  {
   "cell_type": "code",
   "execution_count": 70,
   "id": "b42b56f4",
   "metadata": {},
   "outputs": [
    {
     "name": "stdout",
     "output_type": "stream",
     "text": [
      "True\n"
     ]
    }
   ],
   "source": [
    "# issuperset: returns True if this set contains another set\n",
    "s1 = {12, 19, 77}\n",
    "s2 = {12, 77, 19, 2, 23, 12, 11}\n",
    "# is all of s1 in s2(upwards)\n",
    "print(s2.issuperset(s1))"
   ]
  },
  {
   "cell_type": "code",
   "execution_count": 71,
   "id": "524e59f2",
   "metadata": {},
   "outputs": [
    {
     "name": "stdout",
     "output_type": "stream",
     "text": [
      "19\n",
      "{12, 77}\n"
     ]
    }
   ],
   "source": [
    "# pop: removes and returns an arbitrary element from the set\n",
    "s1 = {12, 19, 77}\n",
    "x = s1.pop()\n",
    "print(x)\n",
    "print(s1)"
   ]
  },
  {
   "cell_type": "code",
   "execution_count": 73,
   "id": "1a1cd54a",
   "metadata": {},
   "outputs": [
    {
     "name": "stdout",
     "output_type": "stream",
     "text": [
      "{19, 77}\n"
     ]
    }
   ],
   "source": [
    "# remove: removes an element from the set, raises KeyError if not found\n",
    "s1 = {12, 19, 77}\n",
    "s1.remove(12)\n",
    "print(s1)"
   ]
  },
  {
   "cell_type": "code",
   "execution_count": 75,
   "id": "25aed8ad",
   "metadata": {},
   "outputs": [
    {
     "name": "stdout",
     "output_type": "stream",
     "text": [
      "{2, 11, 23, 29}\n"
     ]
    }
   ],
   "source": [
    "# symmetric_difference: returns the symmetric difference of two sets as a new set\n",
    "s1 = {12, 19, 77, 29}\n",
    "s2 = {12, 77, 19, 2, 23, 12, 11}\n",
    "\n",
    "print(s2.symmetric_difference(s1))"
   ]
  },
  {
   "cell_type": "code",
   "execution_count": 77,
   "id": "6dc8262b",
   "metadata": {},
   "outputs": [
    {
     "name": "stdout",
     "output_type": "stream",
     "text": [
      "{2, 11, 12, 77, 19, 23, 29}\n"
     ]
    }
   ],
   "source": [
    "# union: returns the union of sets as a new set\n",
    "s1 = {12, 19, 77, 29}\n",
    "s2 = {12, 77, 19, 2, 23, 12, 11}\n",
    "\n",
    "print(s1.union(s2))"
   ]
  },
  {
   "cell_type": "code",
   "execution_count": 78,
   "id": "cdcd3881",
   "metadata": {},
   "outputs": [
    {
     "name": "stdout",
     "output_type": "stream",
     "text": [
      "False\n",
      "True\n"
     ]
    }
   ],
   "source": [
    "# Comparison and logical operators\n",
    "# logical: not, and and or\n",
    "a = 5\n",
    "b = 10\n",
    "c = 2\n",
    "\n",
    "print(a < b and b < c)   \n",
    "print(a < b and b > c)   \n"
   ]
  },
  {
   "cell_type": "code",
   "execution_count": 79,
   "id": "efdea4fc",
   "metadata": {},
   "outputs": [
    {
     "data": {
      "text/plain": [
       "False"
      ]
     },
     "execution_count": 79,
     "metadata": {},
     "output_type": "execute_result"
    }
   ],
   "source": [
    "not(5 < 10) and (2 > 1)"
   ]
  },
  {
   "cell_type": "code",
   "execution_count": 80,
   "id": "0faa46fe",
   "metadata": {},
   "outputs": [
    {
     "data": {
      "text/plain": [
       "True"
      ]
     },
     "execution_count": 80,
     "metadata": {},
     "output_type": "execute_result"
    }
   ],
   "source": [
    "not(5 < 10) or (2 > 1)"
   ]
  },
  {
   "cell_type": "code",
   "execution_count": 81,
   "id": "14981731",
   "metadata": {},
   "outputs": [
    {
     "data": {
      "text/plain": [
       "True"
      ]
     },
     "execution_count": 81,
     "metadata": {},
     "output_type": "execute_result"
    }
   ],
   "source": [
    "True or False"
   ]
  },
  {
   "cell_type": "code",
   "execution_count": 82,
   "id": "954bae08",
   "metadata": {},
   "outputs": [
    {
     "data": {
      "text/plain": [
       "False"
      ]
     },
     "execution_count": 82,
     "metadata": {},
     "output_type": "execute_result"
    }
   ],
   "source": [
    "True and False"
   ]
  },
  {
   "cell_type": "code",
   "execution_count": 83,
   "id": "b1e7d3c0",
   "metadata": {},
   "outputs": [
    {
     "data": {
      "text/plain": [
       "False"
      ]
     },
     "execution_count": 83,
     "metadata": {},
     "output_type": "execute_result"
    }
   ],
   "source": [
    "not True or False"
   ]
  },
  {
   "cell_type": "code",
   "execution_count": 84,
   "id": "bb5c7666",
   "metadata": {},
   "outputs": [
    {
     "data": {
      "text/plain": [
       "False"
      ]
     },
     "execution_count": 84,
     "metadata": {},
     "output_type": "execute_result"
    }
   ],
   "source": [
    "not False and False"
   ]
  },
  {
   "cell_type": "code",
   "execution_count": 85,
   "id": "7c744519",
   "metadata": {},
   "outputs": [
    {
     "data": {
      "text/plain": [
       "False"
      ]
     },
     "execution_count": 85,
     "metadata": {},
     "output_type": "execute_result"
    }
   ],
   "source": [
    "not True and True"
   ]
  },
  {
   "cell_type": "code",
   "execution_count": 86,
   "id": "50de60aa",
   "metadata": {},
   "outputs": [
    {
     "data": {
      "text/plain": [
       "[1, 3, 5]"
      ]
     },
     "execution_count": 86,
     "metadata": {},
     "output_type": "execute_result"
    }
   ],
   "source": [
    "# List comprehension\n",
    "my_numbers = [1,3,5,2,8,10,4]\n",
    "output = [num for num in my_numbers if num % 2 != 0]\n",
    "output"
   ]
  },
  {
   "cell_type": "code",
   "execution_count": 88,
   "id": "19c06ac0",
   "metadata": {},
   "outputs": [
    {
     "data": {
      "text/plain": [
       "[1, 27, 125, 8, 512, 1000, 64]"
      ]
     },
     "execution_count": 88,
     "metadata": {},
     "output_type": "execute_result"
    }
   ],
   "source": [
    "output = [num**3 for num in my_numbers]\n",
    "output"
   ]
  },
  {
   "cell_type": "code",
   "execution_count": 90,
   "id": "3fae64f5",
   "metadata": {},
   "outputs": [
    {
     "name": "stdout",
     "output_type": "stream",
     "text": [
      "Hello User\n"
     ]
    }
   ],
   "source": [
    "# function\n",
    "def my_func(name = \"User\"):\n",
    "    print('Hello ' + name)\n",
    "my_func()"
   ]
  },
  {
   "cell_type": "code",
   "execution_count": 91,
   "id": "874626ac",
   "metadata": {},
   "outputs": [
    {
     "data": {
      "text/plain": [
       "'Ted'"
      ]
     },
     "execution_count": 91,
     "metadata": {},
     "output_type": "execute_result"
    }
   ],
   "source": [
    "def my_func(name = \"User\"):\n",
    "    return  name\n",
    "out = my_func(\"Ted\")\n",
    "out"
   ]
  },
  {
   "cell_type": "code",
   "execution_count": 103,
   "id": "28535762",
   "metadata": {},
   "outputs": [
    {
     "data": {
      "text/plain": [
       "[3, 9, 15, 18, 24, 27]"
      ]
     },
     "execution_count": 103,
     "metadata": {},
     "output_type": "execute_result"
    }
   ],
   "source": [
    "# map\n",
    "def my_times(num):\n",
    "    return num*3\n",
    "seq = [1,3,5,6,8,9]\n",
    "\n",
    "list(map(my_times, seq))"
   ]
  },
  {
   "cell_type": "code",
   "execution_count": 105,
   "id": "6f6c6764",
   "metadata": {},
   "outputs": [
    {
     "data": {
      "text/plain": [
       "15"
      ]
     },
     "execution_count": 105,
     "metadata": {},
     "output_type": "execute_result"
    }
   ],
   "source": [
    "# lambda expression:This is a way to define function by replacing the def and return keyword with lambda\n",
    "number = lambda num : num * 3\n",
    "number(5)"
   ]
  },
  {
   "cell_type": "code",
   "execution_count": 107,
   "id": "83d406ce",
   "metadata": {},
   "outputs": [
    {
     "data": {
      "text/plain": [
       "[6, 18, 30, 36, 48, 54]"
      ]
     },
     "execution_count": 107,
     "metadata": {},
     "output_type": "execute_result"
    }
   ],
   "source": [
    "# Using lambda expressions in map function\n",
    "list(map(lambda num : num * 6, seq))"
   ]
  },
  {
   "cell_type": "code",
   "execution_count": 110,
   "id": "06d6872f",
   "metadata": {},
   "outputs": [
    {
     "name": "stdout",
     "output_type": "stream",
     "text": [
      "5\n",
      "12\n",
      "76\n",
      "40\n"
     ]
    }
   ],
   "source": [
    "# tuple unpacking\n",
    "x = [(1,2), (3,4,5), (6,7)]\n",
    "a,b,c = x[1]\n",
    "print(c)\n",
    "\n",
    "y = [(10,12), (25,76), (31, 40)]\n",
    "for a,b in y:\n",
    "    print(b)"
   ]
  },
  {
   "cell_type": "code",
   "execution_count": 111,
   "id": "92fd993d",
   "metadata": {},
   "outputs": [
    {
     "data": {
      "text/plain": [
       "2401"
      ]
     },
     "execution_count": 111,
     "metadata": {},
     "output_type": "execute_result"
    }
   ],
   "source": [
    "# Exercises\n",
    "7 ** 4"
   ]
  },
  {
   "cell_type": "code",
   "execution_count": 112,
   "id": "3be98897",
   "metadata": {},
   "outputs": [
    {
     "data": {
      "text/plain": [
       "['Hi', 'there', 'Sam']"
      ]
     },
     "execution_count": 112,
     "metadata": {},
     "output_type": "execute_result"
    }
   ],
   "source": [
    "s = 'Hi there Sam'\n",
    "string = s.split()\n",
    "string"
   ]
  },
  {
   "cell_type": "code",
   "execution_count": 113,
   "id": "01ed5cd3",
   "metadata": {},
   "outputs": [
    {
     "name": "stdout",
     "output_type": "stream",
     "text": [
      "the diameter of the Earth is 12742 km\n"
     ]
    }
   ],
   "source": [
    "\n",
    "print('the diameter of the {} is {} km'.format(\"Earth\", 12742))"
   ]
  },
  {
   "cell_type": "code",
   "execution_count": 119,
   "id": "6531161b",
   "metadata": {},
   "outputs": [
    {
     "data": {
      "text/plain": [
       "'hello'"
      ]
     },
     "execution_count": 119,
     "metadata": {},
     "output_type": "execute_result"
    }
   ],
   "source": [
    "lst = [1,2,[3,4],[5,[100,200,['hello']],23,11],1,7]\n",
    "lst[3][1][2][0]"
   ]
  },
  {
   "cell_type": "code",
   "execution_count": 128,
   "id": "5faa6147",
   "metadata": {},
   "outputs": [
    {
     "data": {
      "text/plain": [
       "'hello'"
      ]
     },
     "execution_count": 128,
     "metadata": {},
     "output_type": "execute_result"
    }
   ],
   "source": [
    "d = {'k1':[1,2,3,{'tricky':['oh','man','inception',{'target':[1,2,3,'hello']}]}]}\n",
    "d['k1'][3]['tricky'][3]['target'][3]"
   ]
  },
  {
   "cell_type": "code",
   "execution_count": 134,
   "id": "4cb9b8e0",
   "metadata": {},
   "outputs": [
    {
     "name": "stdout",
     "output_type": "stream",
     "text": [
      "gmail.com\n"
     ]
    }
   ],
   "source": [
    "def site_domain(email):\n",
    "    for char in email:\n",
    "        if(char == \"@\"):\n",
    "            index_of = email.index(char)\n",
    "            print(email[index_of + 1:])\n",
    "site_domain(\"user@gmail.com\")"
   ]
  },
  {
   "cell_type": "code",
   "execution_count": 146,
   "id": "da9811ac",
   "metadata": {},
   "outputs": [
    {
     "data": {
      "text/plain": [
       "True"
      ]
     },
     "execution_count": 146,
     "metadata": {},
     "output_type": "execute_result"
    }
   ],
   "source": [
    "def find_dog(words):\n",
    "    new_words = words.split()\n",
    "    for char in new_words:\n",
    "        if(char.lower() == \"dog\"):\n",
    "            return True\n",
    "\n",
    " \n",
    "sentence = find_dog(\"this dog is beautiful\")\n",
    "sentence"
   ]
  },
  {
   "cell_type": "code",
   "execution_count": 149,
   "id": "68102d8e",
   "metadata": {},
   "outputs": [
    {
     "name": "stdout",
     "output_type": "stream",
     "text": [
      "3\n"
     ]
    }
   ],
   "source": [
    "def count_dogs(words):\n",
    "    new_words = words.split()\n",
    "    print(new_words.count(\"dog\"))\n",
    "\n",
    "count_dogs(\"the dog bites the other dog in the dog cage\")"
   ]
  },
  {
   "cell_type": "code",
   "execution_count": 151,
   "id": "c9d5a7af",
   "metadata": {},
   "outputs": [
    {
     "data": {
      "text/plain": [
       "['soup', 'salad']"
      ]
     },
     "execution_count": 151,
     "metadata": {},
     "output_type": "execute_result"
    }
   ],
   "source": [
    "seq = ['soup','dog','salad','cat','great']\n",
    "\n",
    "s_words = list(filter(lambda word : word.startswith(\"s\"), seq))\n",
    "s_words"
   ]
  },
  {
   "cell_type": "code",
   "execution_count": 170,
   "id": "a5750dfa",
   "metadata": {},
   "outputs": [
    {
     "data": {
      "text/plain": [
       "'No Ticket'"
      ]
     },
     "execution_count": 170,
     "metadata": {},
     "output_type": "execute_result"
    }
   ],
   "source": [
    "# You are driving a little too fast, and a police officer stops you. \n",
    "# Write a function to return one of 3 possible results: \"No ticket\", \"Small ticket\", or \"Big Ticket\". \n",
    "# If your speed is 60 or less, the result is \"No Ticket\". \n",
    "# If speed is between 61 and 80 inclusive, the result is \"Small Ticket\". \n",
    "# If speed is 81 or more, the result is \"Big Ticket\". \n",
    "# Unless it is your birthday (encoded as a boolean value in the parameters of the function) -- on your birthday, your speed can be 5 higher in all cases.\n",
    "\n",
    "def speed_test(speed, birthday):\n",
    "    if(birthday):\n",
    "        speed = speed -5\n",
    "    if (speed > 80):\n",
    "        return \"Big Ticket\"\n",
    "    elif(speed > 60):\n",
    "        return \"Small Ticket\"\n",
    "    return \"No Ticket\"\n",
    "speed_test(60, False)"
   ]
  },
  {
   "cell_type": "code",
   "execution_count": null,
   "id": "319fde15",
   "metadata": {},
   "outputs": [],
   "source": []
  },
  {
   "cell_type": "code",
   "execution_count": null,
   "id": "c6a8f1f3",
   "metadata": {},
   "outputs": [],
   "source": []
  }
 ],
 "metadata": {
  "kernelspec": {
   "display_name": "onecampusenv",
   "language": "python",
   "name": "onecampusenv"
  },
  "language_info": {
   "codemirror_mode": {
    "name": "ipython",
    "version": 3
   },
   "file_extension": ".py",
   "mimetype": "text/x-python",
   "name": "python",
   "nbconvert_exporter": "python",
   "pygments_lexer": "ipython3",
   "version": "3.10.10"
  }
 },
 "nbformat": 4,
 "nbformat_minor": 5
}
