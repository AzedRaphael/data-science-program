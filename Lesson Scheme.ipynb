{
 "cells": [
  {
   "cell_type": "code",
   "execution_count": null,
   "id": "cbe27959",
   "metadata": {},
   "outputs": [],
   "source": [
    "# 1. Discusss list and dictionary methods\n",
    "# 2 Introduction to numpy Array methods\n",
    "# 3 Difference between List and arrays\n",
    "# 4 Introduction to pandas\n",
    "# 5 The project"
   ]
  },
  {
   "cell_type": "code",
   "execution_count": 1,
   "id": "244f4e4e",
   "metadata": {},
   "outputs": [
    {
     "data": {
      "text/plain": [
       "[1, 2, 3, 4, [5, 6, 7, [8, 9], [10]], 11]"
      ]
     },
     "execution_count": 1,
     "metadata": {},
     "output_type": "execute_result"
    }
   ],
   "source": [
    "nested_list = [1,2,3,4,[5,6,7, [8,9],[10]]]\n",
    "nested_list.append(11)\n",
    "nested_list"
   ]
  },
  {
   "cell_type": "code",
   "execution_count": null,
   "id": "79db4e5c",
   "metadata": {},
   "outputs": [],
   "source": [
    "# LIST\n",
    "# METHODS IN LIST : Append(i) | Extend | Insert | Remove | Pop | Count | Sort | Reverse | Index | Clear | Copy(CARIPRICCES)"
   ]
  },
  {
   "cell_type": "code",
   "execution_count": null,
   "id": "5b508215",
   "metadata": {},
   "outputs": [],
   "source": [
    "# Dictionary methods : Clear, Copy, fromkeys, get, items, keys, pop, popItems, setdefault, update"
   ]
  },
  {
   "cell_type": "code",
   "execution_count": null,
   "id": "03d0787f",
   "metadata": {},
   "outputs": [],
   "source": [
    "# Numpy array methods\n",
    "# ndim, shape,reshape,array,dtype, flatten, min,max,transpose,mean,size, astype, sum, eye, random, arange,copy,\n",
    "\n",
    "# Array operations\n",
    "# Addition, subtraction, dot, multiply, division,sin,cos,tan,sqrt,exponents\n",
    "\n",
    "# pip install numpy"
   ]
  }
 ],
 "metadata": {
  "kernelspec": {
   "display_name": "onecampusenv",
   "language": "python",
   "name": "onecampusenv"
  },
  "language_info": {
   "codemirror_mode": {
    "name": "ipython",
    "version": 3
   },
   "file_extension": ".py",
   "mimetype": "text/x-python",
   "name": "python",
   "nbconvert_exporter": "python",
   "pygments_lexer": "ipython3",
   "version": "3.10.10"
  }
 },
 "nbformat": 4,
 "nbformat_minor": 5
}
